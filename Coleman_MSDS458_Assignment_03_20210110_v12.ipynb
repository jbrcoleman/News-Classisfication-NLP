{
  "nbformat": 4,
  "nbformat_minor": 0,
  "metadata": {
    "colab": {
      "name": "Coleman_MSDS458_Assignment_03_20210110_v12.ipynb",
      "provenance": [],
      "collapsed_sections": [],
      "machine_shape": "hm"
    },
    "kernelspec": {
      "display_name": "Python 3",
      "language": "python",
      "name": "python3"
    },
    "language_info": {
      "codemirror_mode": {
        "name": "ipython",
        "version": 3
      },
      "file_extension": ".py",
      "mimetype": "text/x-python",
      "name": "python",
      "nbconvert_exporter": "python",
      "pygments_lexer": "ipython3",
      "version": "3.6.9"
    },
    "toc": {
      "base_numbering": 1,
      "nav_menu": {},
      "number_sections": false,
      "sideBar": true,
      "skip_h1_title": false,
      "title_cell": "Table of Contents",
      "title_sidebar": "Contents",
      "toc_cell": false,
      "toc_position": {},
      "toc_section_display": true,
      "toc_window_display": false
    }
  },
  "cells": [
    {
      "cell_type": "markdown",
      "metadata": {
        "id": "Cfh9kVB-rpjo"
      },
      "source": [
        "<img src=\"https://github.com/djp840/MSDS_458_Public/blob/master/images/NorthwesternHeader.png?raw=1\">"
      ]
    },
    {
      "cell_type": "markdown",
      "metadata": {
        "id": "pRAx1f1ir1St"
      },
      "source": [
        "## MSDS458 Research Assignment 3"
      ]
    },
    {
      "cell_type": "markdown",
      "metadata": {
        "id": "jQnyR1_aFk-t"
      },
      "source": [
        "### Analyze AG_NEWS_SUBSET Data <br>\n",
        "\n",
        "AG is a collection of more than 1 million news articles. News articles have been gathered from more than 2000 news sources by ComeToMyHead in more than 1 year of activity. ComeToMyHead is an academic news search engine which has been running since July, 2004. The dataset is provided by the academic comunity for research purposes in data mining (clustering, classification, etc), information retrieval (ranking, search, etc), xml, data compression, data streaming, and any other non-commercial activity.<br> \n",
        "\n",
        "For more information, please refer to the link http://www.di.unipi.it/~gulli/AG_corpus_of_news_articles.html<br> \n",
        "\n",
        "\n",
        "The AG's news topic classification dataset is constructed by choosing 4 largest classes (**World**, **Sports**, **Business**, and **Sci/Tech**) from the original corpus. Each class contains 30,000 training samples and 1,900 testing samples. The total number of training samples is 120,000 and testing 7,600.<br>\n",
        "\n",
        "Homepage: https://arxiv.org/abs/1509.01626<br>\n",
        "\n",
        "Source code: tfds.text.AGNewsSubset\n",
        "\n",
        "Versions:\n",
        "\n",
        "1.0.0 (default): No release notes.\n",
        "Download size: 11.24 MiB\n",
        "\n",
        "Dataset size: 35.79 MiB"
      ]
    },
    {
      "cell_type": "markdown",
      "metadata": {
        "id": "oGBlk-2-NaCn"
      },
      "source": [
        "<div class=\"alert alert-block alert-success\">\n",
        "    <b>More Technical</b>: Throughout the notebook. This types of boxes provide more technical details and extra references about what you are seeing. They contain helpful tips, but you can safely skip them the first time you run through the code.\n",
        "</div>"
      ]
    },
    {
      "cell_type": "markdown",
      "metadata": {
        "id": "t-Jjr3rNr5PR"
      },
      "source": [
        "## Import packages "
      ]
    },
    {
      "cell_type": "code",
      "metadata": {
        "id": "mbrX9qUZvfs1"
      },
      "source": [
        "import datetime\n",
        "from packaging import version\n",
        "from collections import Counter\n",
        "import numpy as np\n",
        "import pandas as pd\n",
        "import matplotlib.pyplot as plt\n",
        "\n",
        "# TensorFlow and tf.keras\n",
        "import tensorflow as tf\n",
        "from tensorflow import keras\n",
        "import tensorflow_datasets as tfds"
      ],
      "execution_count": null,
      "outputs": []
    },
    {
      "cell_type": "code",
      "metadata": {
        "id": "q0H8HuzHrWwN"
      },
      "source": [
        "%matplotlib inline\n",
        "np.set_printoptions(precision=3, suppress=True)"
      ],
      "execution_count": null,
      "outputs": []
    },
    {
      "cell_type": "markdown",
      "metadata": {
        "id": "b2iqmNYKxw3A"
      },
      "source": [
        "### Create a Helper Function to Plot Graphs:"
      ]
    },
    {
      "cell_type": "code",
      "metadata": {
        "id": "gg13oDZNxxMp"
      },
      "source": [
        "def plot_graphs(history, metric):\n",
        "  plt.plot(history.history[metric])\n",
        "  plt.plot(history.history['val_'+metric], '')\n",
        "  plt.xlabel(\"Epochs\")\n",
        "  plt.ylabel(metric)\n",
        "  plt.legend([metric, 'val_'+metric])"
      ],
      "execution_count": null,
      "outputs": []
    },
    {
      "cell_type": "markdown",
      "metadata": {
        "id": "iKucNfkrsqrP"
      },
      "source": [
        "### Verify TensorFlow Version and Keras Version"
      ]
    },
    {
      "cell_type": "code",
      "metadata": {
        "colab": {
          "base_uri": "https://localhost:8080/"
        },
        "id": "g_BoGg9JrWzj",
        "outputId": "631f6f86-7fed-4f85-ebb5-07c6190c62bf"
      },
      "source": [
        "print(\"This notebook requires TensorFlow 2.0 or above\")\n",
        "print(\"TensorFlow version: \", tf.__version__)\n",
        "assert version.parse(tf.__version__).release[0] >=2"
      ],
      "execution_count": null,
      "outputs": [
        {
          "output_type": "stream",
          "text": [
            "This notebook requires TensorFlow 2.0 or above\n",
            "TensorFlow version:  2.4.1\n"
          ],
          "name": "stdout"
        }
      ]
    },
    {
      "cell_type": "code",
      "metadata": {
        "colab": {
          "base_uri": "https://localhost:8080/"
        },
        "id": "U_bLWHP4rW3b",
        "outputId": "941a7136-0b75-4e6f-a655-7e0469cb94a8"
      },
      "source": [
        "print(\"Keras version: \", keras.__version__)"
      ],
      "execution_count": null,
      "outputs": [
        {
          "output_type": "stream",
          "text": [
            "Keras version:  2.4.0\n"
          ],
          "name": "stdout"
        }
      ]
    },
    {
      "cell_type": "markdown",
      "metadata": {
        "id": "J3-S2vDGs_ye"
      },
      "source": [
        "<div class=\"alert alert-block alert-info\">\n",
        "    <b>Suppress warning messages</b></div>"
      ]
    },
    {
      "cell_type": "code",
      "metadata": {
        "id": "mh3EX5eBrW6R"
      },
      "source": [
        "def warn(*args, **kwargs):\n",
        "    pass\n",
        "import warnings\n",
        "warnings.warn = warn"
      ],
      "execution_count": null,
      "outputs": []
    },
    {
      "cell_type": "markdown",
      "metadata": {
        "id": "-mFyXjJmtJ3E"
      },
      "source": [
        "### Mount Google Drive to Colab Environment"
      ]
    },
    {
      "cell_type": "code",
      "metadata": {
        "colab": {
          "base_uri": "https://localhost:8080/"
        },
        "id": "CXm3H81YrW8-",
        "outputId": "4f1ecf4a-c989-4bc5-ab1f-da8adb1b7d69"
      },
      "source": [
        "from google.colab import drive\n",
        "drive.mount('/content/gdrive')"
      ],
      "execution_count": null,
      "outputs": [
        {
          "output_type": "stream",
          "text": [
            "Drive already mounted at /content/gdrive; to attempt to forcibly remount, call drive.mount(\"/content/gdrive\", force_remount=True).\n"
          ],
          "name": "stdout"
        }
      ]
    },
    {
      "cell_type": "markdown",
      "metadata": {
        "id": "X6s4xhh5ysp6"
      },
      "source": [
        "###  TensorFlow Datasets Information<br>\n",
        "<div class=\"alert alert-block alert-info\">\n",
        "    <b> ag_news_subset</b><br>\n",
        "    See https://www.tensorflow.org/datasets/catalog/ag_news_subset\n",
        "    </div>"
      ]
    },
    {
      "cell_type": "markdown",
      "metadata": {
        "id": "cL3ewSkAF4yF"
      },
      "source": [
        "Get all the words in the documents (as well as the number of words in each document) by using the encoder to get the indices associated with each token and then translating the indices to tokens. But first we need to get the \"unpadded\" new articles so that we can get their length."
      ]
    },
    {
      "cell_type": "code",
      "metadata": {
        "colab": {
          "base_uri": "https://localhost:8080/"
        },
        "id": "VNj2HSxNtTNS",
        "scrolled": false,
        "outputId": "1a7b18e2-b597-44d8-c4ef-31199b604a31"
      },
      "source": [
        "#register  ag_news_subset so that tfds.load doesn't generate a checksum (mismatch) error\n",
        "!python -m tensorflow_datasets.scripts.download_and_prepare --register_checksums --datasets=ag_news_subset\n",
        "\n",
        "# https://www.tensorflow.org/datasets/splits\n",
        "# The full `train` and `test` splits, interleaved together.\n",
        "ri = tfds.core.ReadInstruction('train') + tfds.core.ReadInstruction('test')\n",
        "dataset_all, info = tfds.load('ag_news_subset', with_info=True,  split=ri, as_supervised=True)"
      ],
      "execution_count": null,
      "outputs": [
        {
          "output_type": "stream",
          "text": [
            "2021-02-21 21:46:40.803352: I tensorflow/stream_executor/platform/default/dso_loader.cc:49] Successfully opened dynamic library libcudart.so.10.1\n",
            "I0221 21:46:43.977548 140005830662016 download_and_prepare.py:200] Running download_and_prepare for dataset(s):\n",
            "ag_news_subset\n",
            "2021-02-21 21:46:43.992844: I tensorflow/core/platform/cloud/google_auth_provider.cc:180] Attempting an empty bearer token since no token was retrieved from files, and GCE metadata check was skipped.\n",
            "2021-02-21 21:46:44.059602: I tensorflow/core/platform/cloud/google_auth_provider.cc:180] Attempting an empty bearer token since no token was retrieved from files, and GCE metadata check was skipped.\n",
            "2021-02-21 21:46:44.099552: I tensorflow/core/platform/cloud/google_auth_provider.cc:180] Attempting an empty bearer token since no token was retrieved from files, and GCE metadata check was skipped.\n",
            "I0221 21:46:44.142564 140005830662016 dataset_info.py:434] Load pre-computed DatasetInfo (eg: splits, num examples,...) from GCS: ag_news_subset/1.0.0\n",
            "2021-02-21 21:46:44.158537: I tensorflow/core/platform/cloud/google_auth_provider.cc:180] Attempting an empty bearer token since no token was retrieved from files, and GCE metadata check was skipped.\n",
            "2021-02-21 21:46:44.232229: I tensorflow/core/platform/cloud/google_auth_provider.cc:180] Attempting an empty bearer token since no token was retrieved from files, and GCE metadata check was skipped.\n",
            "I0221 21:46:44.287258 140005830662016 dataset_info.py:361] Load dataset info from /tmp/tmpkdots1q3tfds\n",
            "I0221 21:46:44.289404 140005830662016 download_and_prepare.py:138] download_and_prepare for dataset ag_news_subset/1.0.0...\n",
            "I0221 21:46:44.289957 140005830662016 dataset_builder.py:357] Generating dataset ag_news_subset (/root/tensorflow_datasets/ag_news_subset/1.0.0)\n",
            "\u001b[1mDownloading and preparing dataset ag_news_subset/1.0.0 (download: 11.24 MiB, generated: 35.79 MiB, total: 47.03 MiB) to /root/tensorflow_datasets/ag_news_subset/1.0.0...\u001b[0m\n",
            "2021-02-21 21:46:44.534170: I tensorflow/core/platform/cloud/google_auth_provider.cc:180] Attempting an empty bearer token since no token was retrieved from files, and GCE metadata check was skipped.\n",
            "2021-02-21 21:46:44.573309: I tensorflow/core/platform/cloud/google_auth_provider.cc:180] Attempting an empty bearer token since no token was retrieved from files, and GCE metadata check was skipped.\n",
            "Dl Completed...: 0 url [00:00, ? url/s]\n",
            "Dl Size...: 0 MiB [00:00, ? MiB/s]\u001b[A\n",
            "\n",
            "Extraction completed...: 0 file [00:00, ? file/s]\u001b[A\u001b[AI0221 21:46:44.619782 140005830662016 download_manager.py:476] Downloading https://drive.google.com/uc?export=download&id=0Bz8a_Dbh9QhbUDNpeUdjb0wxRms into /root/tensorflow_datasets/downloads/ucexport_download_id_0Bz8a_Dbh9QhbUDNpeUdjb0wxj4g1umFAV8OV-uDwxSJR0LdxO_k1jxMuFWwAfNX9jos.tmp.c3f4d907318147dd83054775d4f68f1c...\n",
            "Dl Completed...:   0% 0/1 [00:00<?, ? url/s]\n",
            "Dl Size...: 0 MiB [00:00, ? MiB/s]\u001b[A\n",
            "\n",
            "Dl Completed...:   0% 0/1 [00:03<?, ? url/s]\n",
            "Dl Size...: 0 MiB [00:03, ? MiB/s]\u001b[A\n",
            "\n",
            "Extraction completed...: 0 file [00:03, ? file/s]\u001b[A\u001b[A\n",
            "Dl Completed...:   0% 0/1 [00:03<?, ? url/s]\n",
            "Dl Size...: 1 MiB [00:03,  3.89s/ MiB]\u001b[A\n",
            "\n",
            "Dl Completed...:   0% 0/1 [00:03<?, ? url/s]\n",
            "Dl Size...: 2 MiB [00:03,  3.89s/ MiB]\u001b[A\n",
            "\n",
            "Dl Completed...:   0% 0/1 [00:03<?, ? url/s]\n",
            "Dl Size...: 3 MiB [00:03,  3.89s/ MiB]\u001b[A\n",
            "\n",
            "Dl Completed...:   0% 0/1 [00:03<?, ? url/s]\n",
            "Dl Size...: 4 MiB [00:03,  3.89s/ MiB]\u001b[A\n",
            "\n",
            "Dl Completed...:   0% 0/1 [00:03<?, ? url/s]\n",
            "Dl Size...: 5 MiB [00:03,  3.89s/ MiB]\u001b[A\n",
            "\n",
            "Dl Completed...:   0% 0/1 [00:03<?, ? url/s]\n",
            "Dl Size...: 6 MiB [00:03,  3.89s/ MiB]\u001b[A\n",
            "\n",
            "Dl Completed...:   0% 0/1 [00:03<?, ? url/s]\n",
            "Dl Size...: 7 MiB [00:03,  3.89s/ MiB]\u001b[A\n",
            "\n",
            "Dl Completed...:   0% 0/1 [00:03<?, ? url/s]\n",
            "Dl Size...: 8 MiB [00:03,  3.89s/ MiB]\u001b[A\n",
            "\n",
            "Dl Completed...:   0% 0/1 [00:03<?, ? url/s]\n",
            "Dl Size...: 9 MiB [00:03,  3.89s/ MiB]\u001b[A\n",
            "\n",
            "Dl Completed...:   0% 0/1 [00:03<?, ? url/s]\n",
            "Dl Size...: 10 MiB [00:03,  3.89s/ MiB]\u001b[A\n",
            "\n",
            "Dl Completed...:   0% 0/1 [00:03<?, ? url/s]\n",
            "Dl Size...: 11 MiB [00:03,  3.89s/ MiB]\u001b[A\n",
            "\n",
            "Dl Completed...: 100% 1/1 [00:03<00:00,  3.97s/ url]\n",
            "Dl Size...: 11 MiB [00:03,  3.89s/ MiB]\u001b[A\n",
            "\n",
            "Dl Completed...: 100% 1/1 [00:03<00:00,  3.97s/ url]\n",
            "Dl Size...: 11 MiB [00:03,  3.89s/ MiB]\u001b[A\n",
            "\n",
            "Extraction completed...:   0% 0/1 [00:03<?, ? file/s]\u001b[A\u001b[A\n",
            "\n",
            "Dl Completed...: 100% 1/1 [00:04<00:00,  3.97s/ url]\n",
            "Dl Size...: 11 MiB [00:04,  3.89s/ MiB]\u001b[A\n",
            "\n",
            "Extraction completed...: 100% 1/1 [00:04<00:00,  4.35s/ file]\u001b[A\u001b[A\n",
            "Extraction completed...: 100% 1/1 [00:04<00:00,  4.35s/ file]\n",
            "\n",
            "Dl Size...: 11 MiB [00:04,  2.53 MiB/s]\n",
            "\n",
            "Dl Completed...: 100% 1/1 [00:04<00:00,  4.35s/ url]\n",
            "I0221 21:46:48.971414 140005830662016 dataset_builder.py:970] Generating split train\n",
            "Shuffling and writing examples to /root/tensorflow_datasets/ag_news_subset/1.0.0.incompleteJSHCP5/ag_news_subset-train.tfrecord\n",
            " 98% 117137/120000 [00:00<03:07, 15.27 examples/s] I0221 21:47:18.362332 140005830662016 tfrecords_writer.py:226] Done writing /root/tensorflow_datasets/ag_news_subset/1.0.0.incompleteJSHCP5/ag_news_subset-train.tfrecord. Shard lengths: [120000]\n",
            "I0221 21:47:18.381315 140005830662016 dataset_builder.py:970] Generating split test\n",
            "Shuffling and writing examples to /root/tensorflow_datasets/ag_news_subset/1.0.0.incompleteJSHCP5/ag_news_subset-test.tfrecord\n",
            "  0% 0/7600 [00:00<?, ? examples/s]I0221 21:47:20.044645 140005830662016 tfrecords_writer.py:226] Done writing /root/tensorflow_datasets/ag_news_subset/1.0.0.incompleteJSHCP5/ag_news_subset-test.tfrecord. Shard lengths: [7600]\n",
            "I0221 21:47:20.046901 140005830662016 dataset_builder.py:412] Skipping computing stats for mode ComputeStatsMode.SKIP.\n",
            "\u001b[1mDataset ag_news_subset downloaded and prepared to /root/tensorflow_datasets/ag_news_subset/1.0.0. Subsequent calls will reuse this data.\u001b[0m\n",
            "\u001b[1mname: \"ag_news_subset\"\n",
            "description: \"AG is a collection of more than 1 million news articles.\\nNews articles have been gathered from more than 2000  news sources by ComeToMyHead in more than 1 year of activity.\\nComeToMyHead is an academic news search engine which has been running since July, 2004.\\nThe dataset is provided by the academic comunity for research purposes in data mining (clustering, classification, etc),\\ninformation retrieval (ranking, search, etc), xml, data compression, data streaming,\\nand any other non-commercial activity.\\nFor more information, please refer to the link http://www.di.unipi.it/~gulli/AG_corpus_of_news_articles.html .\\n\\nThe AG\\'s news topic classification dataset is constructed by Xiang Zhang (xiang.zhang@nyu.edu) from the dataset above.\\nIt is used as a text classification benchmark in the following paper:\\nXiang Zhang, Junbo Zhao, Yann LeCun. Character-level Convolutional Networks for Text Classification. Advances in Neural Information Processing Systems 28 (NIPS 2015).\\n\\nThe AG\\'s news topic classification dataset is constructed by choosing 4 largest classes from the original corpus.\\nEach class contains 30,000 training samples and 1,900 testing samples.\\nThe total number of training samples is 120,000 and testing 7,600.\"\n",
            "citation: \"@misc{zhang2015characterlevel,\\n    title={Character-level Convolutional Networks for Text Classification},\\n    author={Xiang Zhang and Junbo Zhao and Yann LeCun},\\n    year={2015},\\n    eprint={1509.01626},\\n    archivePrefix={arXiv},\\n    primaryClass={cs.LG}\\n}\"\n",
            "location {\n",
            "  urls: \"https://arxiv.org/abs/1509.01626\"\n",
            "}\n",
            "splits {\n",
            "  name: \"test\"\n",
            "  shard_lengths: 7600\n",
            "  num_bytes: 2226751\n",
            "}\n",
            "splits {\n",
            "  name: \"train\"\n",
            "  shard_lengths: 120000\n",
            "  num_bytes: 35301386\n",
            "}\n",
            "supervised_keys {\n",
            "  input: \"description\"\n",
            "  output: \"label\"\n",
            "}\n",
            "version: \"1.0.0\"\n",
            "download_size: 11784327\n",
            "\u001b[0m\n"
          ],
          "name": "stdout"
        }
      ]
    },
    {
      "cell_type": "markdown",
      "metadata": {
        "id": "Bzs2FWbQIf5m"
      },
      "source": [
        "###  Exploratory Analysis AG News Subset"
      ]
    },
    {
      "cell_type": "markdown",
      "metadata": {
        "id": "m7514-j4I4B-"
      },
      "source": [
        "**Get information about the ag_news_subset dataset. We combined the training and test data for a total of 127,600 news articles.**"
      ]
    },
    {
      "cell_type": "code",
      "metadata": {
        "colab": {
          "base_uri": "https://localhost:8080/"
        },
        "id": "eJNcnZbRtTQ2",
        "outputId": "d279309b-58ba-4640-e3a3-42705c4b73e7"
      },
      "source": [
        "info"
      ],
      "execution_count": null,
      "outputs": [
        {
          "output_type": "execute_result",
          "data": {
            "text/plain": [
              "tfds.core.DatasetInfo(\n",
              "    name='ag_news_subset',\n",
              "    version=1.0.0,\n",
              "    description='AG is a collection of more than 1 million news articles.\n",
              "News articles have been gathered from more than 2000  news sources by ComeToMyHead in more than 1 year of activity.\n",
              "ComeToMyHead is an academic news search engine which has been running since July, 2004.\n",
              "The dataset is provided by the academic comunity for research purposes in data mining (clustering, classification, etc),\n",
              "information retrieval (ranking, search, etc), xml, data compression, data streaming,\n",
              "and any other non-commercial activity.\n",
              "For more information, please refer to the link http://www.di.unipi.it/~gulli/AG_corpus_of_news_articles.html .\n",
              "\n",
              "The AG's news topic classification dataset is constructed by Xiang Zhang (xiang.zhang@nyu.edu) from the dataset above.\n",
              "It is used as a text classification benchmark in the following paper:\n",
              "Xiang Zhang, Junbo Zhao, Yann LeCun. Character-level Convolutional Networks for Text Classification. Advances in Neural Information Processing Systems 28 (NIPS 2015).\n",
              "\n",
              "The AG's news topic classification dataset is constructed by choosing 4 largest classes from the original corpus.\n",
              "Each class contains 30,000 training samples and 1,900 testing samples.\n",
              "The total number of training samples is 120,000 and testing 7,600.',\n",
              "    homepage='https://arxiv.org/abs/1509.01626',\n",
              "    features=FeaturesDict({\n",
              "        'description': Text(shape=(), dtype=tf.string),\n",
              "        'label': ClassLabel(shape=(), dtype=tf.int64, num_classes=4),\n",
              "        'title': Text(shape=(), dtype=tf.string),\n",
              "    }),\n",
              "    total_num_examples=127600,\n",
              "    splits={\n",
              "        'test': 7600,\n",
              "        'train': 120000,\n",
              "    },\n",
              "    supervised_keys=('description', 'label'),\n",
              "    citation=\"\"\"@misc{zhang2015characterlevel,\n",
              "        title={Character-level Convolutional Networks for Text Classification},\n",
              "        author={Xiang Zhang and Junbo Zhao and Yann LeCun},\n",
              "        year={2015},\n",
              "        eprint={1509.01626},\n",
              "        archivePrefix={arXiv},\n",
              "        primaryClass={cs.LG}\n",
              "    }\"\"\",\n",
              "    redistribution_info=,\n",
              ")"
            ]
          },
          "metadata": {
            "tags": []
          },
          "execution_count": 9
        }
      ]
    },
    {
      "cell_type": "code",
      "metadata": {
        "colab": {
          "base_uri": "https://localhost:8080/",
          "height": 385
        },
        "id": "w6GaSzMRqrIR",
        "outputId": "effc79f1-6c93-4b13-9f63-07239fe4fede"
      },
      "source": [
        "tfds.as_dataframe(dataset_all.take(10),info)"
      ],
      "execution_count": null,
      "outputs": [
        {
          "output_type": "execute_result",
          "data": {
            "text/html": [
              "<style  type=\"text/css\" >\n",
              "</style><table id=\"T_a22b63ca_7452_11eb_b962_0242ac1c0002\" ><thead>    <tr>        <th class=\"blank level0\" ></th>        <th class=\"col_heading level0 col0\" >description</th>        <th class=\"col_heading level0 col1\" >label</th>    </tr></thead><tbody>\n",
              "                <tr>\n",
              "                        <th id=\"T_a22b63ca_7452_11eb_b962_0242ac1c0002level0_row0\" class=\"row_heading level0 row0\" >0</th>\n",
              "                        <td id=\"T_a22b63ca_7452_11eb_b962_0242ac1c0002row0_col0\" class=\"data row0 col0\" >AMD #39;s new dual-core Opteron chip is designed mainly for corporate computing applications, including databases, Web services, and financial transactions.</td>\n",
              "                        <td id=\"T_a22b63ca_7452_11eb_b962_0242ac1c0002row0_col1\" class=\"data row0 col1\" >3 (Sci/Tech)</td>\n",
              "            </tr>\n",
              "            <tr>\n",
              "                        <th id=\"T_a22b63ca_7452_11eb_b962_0242ac1c0002level0_row1\" class=\"row_heading level0 row1\" >1</th>\n",
              "                        <td id=\"T_a22b63ca_7452_11eb_b962_0242ac1c0002row1_col0\" class=\"data row1 col0\" >Reuters - Major League Baseball\\Monday announced a decision on the appeal filed by Chicago Cubs\\pitcher Kerry Wood regarding a suspension stemming from an\\incident earlier this season.</td>\n",
              "                        <td id=\"T_a22b63ca_7452_11eb_b962_0242ac1c0002row1_col1\" class=\"data row1 col1\" >1 (Sports)</td>\n",
              "            </tr>\n",
              "            <tr>\n",
              "                        <th id=\"T_a22b63ca_7452_11eb_b962_0242ac1c0002level0_row2\" class=\"row_heading level0 row2\" >2</th>\n",
              "                        <td id=\"T_a22b63ca_7452_11eb_b962_0242ac1c0002row2_col0\" class=\"data row2 col0\" >President Bush #39;s quot;revenue-neutral quot; tax reform needs losers to balance its winners, and people claiming the federal deduction for state and local taxes may be in administration planners #39; sights, news reports say.</td>\n",
              "                        <td id=\"T_a22b63ca_7452_11eb_b962_0242ac1c0002row2_col1\" class=\"data row2 col1\" >2 (Business)</td>\n",
              "            </tr>\n",
              "            <tr>\n",
              "                        <th id=\"T_a22b63ca_7452_11eb_b962_0242ac1c0002level0_row3\" class=\"row_heading level0 row3\" >3</th>\n",
              "                        <td id=\"T_a22b63ca_7452_11eb_b962_0242ac1c0002row3_col0\" class=\"data row3 col0\" >Britain will run out of leading scientists unless science education is improved, says Professor Colin Pillinger.</td>\n",
              "                        <td id=\"T_a22b63ca_7452_11eb_b962_0242ac1c0002row3_col1\" class=\"data row3 col1\" >3 (Sci/Tech)</td>\n",
              "            </tr>\n",
              "            <tr>\n",
              "                        <th id=\"T_a22b63ca_7452_11eb_b962_0242ac1c0002level0_row4\" class=\"row_heading level0 row4\" >4</th>\n",
              "                        <td id=\"T_a22b63ca_7452_11eb_b962_0242ac1c0002row4_col0\" class=\"data row4 col0\" >London, England (Sports Network) - England midfielder Steven Gerrard injured his groin late in Thursday #39;s training session, but is hopeful he will be ready for Saturday #39;s World Cup qualifier against Austria.</td>\n",
              "                        <td id=\"T_a22b63ca_7452_11eb_b962_0242ac1c0002row4_col1\" class=\"data row4 col1\" >1 (Sports)</td>\n",
              "            </tr>\n",
              "            <tr>\n",
              "                        <th id=\"T_a22b63ca_7452_11eb_b962_0242ac1c0002level0_row5\" class=\"row_heading level0 row5\" >5</th>\n",
              "                        <td id=\"T_a22b63ca_7452_11eb_b962_0242ac1c0002row5_col0\" class=\"data row5 col0\" >TOKYO - Sony Corp. is banking on the \\$3 billion deal to acquire Hollywood studio Metro-Goldwyn-Mayer Inc...</td>\n",
              "                        <td id=\"T_a22b63ca_7452_11eb_b962_0242ac1c0002row5_col1\" class=\"data row5 col1\" >0 (World)</td>\n",
              "            </tr>\n",
              "            <tr>\n",
              "                        <th id=\"T_a22b63ca_7452_11eb_b962_0242ac1c0002level0_row6\" class=\"row_heading level0 row6\" >6</th>\n",
              "                        <td id=\"T_a22b63ca_7452_11eb_b962_0242ac1c0002row6_col0\" class=\"data row6 col0\" >Giant pandas may well prefer bamboo to laptops, but wireless technology is helping researchers in China in their efforts to protect the engandered animals living in the remote Wolong Nature Reserve.</td>\n",
              "                        <td id=\"T_a22b63ca_7452_11eb_b962_0242ac1c0002row6_col1\" class=\"data row6 col1\" >3 (Sci/Tech)</td>\n",
              "            </tr>\n",
              "            <tr>\n",
              "                        <th id=\"T_a22b63ca_7452_11eb_b962_0242ac1c0002level0_row7\" class=\"row_heading level0 row7\" >7</th>\n",
              "                        <td id=\"T_a22b63ca_7452_11eb_b962_0242ac1c0002row7_col0\" class=\"data row7 col0\" >VILNIUS, Lithuania - Lithuania #39;s main parties formed an alliance to try to keep a Russian-born tycoon and his populist promises out of the government in Sunday #39;s second round of parliamentary elections in this Baltic country.</td>\n",
              "                        <td id=\"T_a22b63ca_7452_11eb_b962_0242ac1c0002row7_col1\" class=\"data row7 col1\" >0 (World)</td>\n",
              "            </tr>\n",
              "            <tr>\n",
              "                        <th id=\"T_a22b63ca_7452_11eb_b962_0242ac1c0002level0_row8\" class=\"row_heading level0 row8\" >8</th>\n",
              "                        <td id=\"T_a22b63ca_7452_11eb_b962_0242ac1c0002row8_col0\" class=\"data row8 col0\" >Witnesses in the trial of a US soldier charged with abusing prisoners at Abu Ghraib have told the court that the CIA sometimes directed abuse and orders were received from military command to toughen interrogations.</td>\n",
              "                        <td id=\"T_a22b63ca_7452_11eb_b962_0242ac1c0002row8_col1\" class=\"data row8 col1\" >0 (World)</td>\n",
              "            </tr>\n",
              "            <tr>\n",
              "                        <th id=\"T_a22b63ca_7452_11eb_b962_0242ac1c0002level0_row9\" class=\"row_heading level0 row9\" >9</th>\n",
              "                        <td id=\"T_a22b63ca_7452_11eb_b962_0242ac1c0002row9_col0\" class=\"data row9 col0\" >Dan Olsen of Ponte Vedra Beach, Fla., shot a 7-under 65 Thursday to take a one-shot lead after two rounds of the PGA Tour qualifying tournament.</td>\n",
              "                        <td id=\"T_a22b63ca_7452_11eb_b962_0242ac1c0002row9_col1\" class=\"data row9 col1\" >1 (Sports)</td>\n",
              "            </tr>\n",
              "    </tbody></table>"
            ],
            "text/plain": [
              "                                         description  label\n",
              "0  b'AMD #39;s new dual-core Opteron chip is desi...      3\n",
              "1  b'Reuters - Major League Baseball\\\\Monday anno...      1\n",
              "2  b'President Bush #39;s  quot;revenue-neutral q...      2\n",
              "3  b'Britain will run out of leading scientists u...      3\n",
              "4  b'London, England (Sports Network) - England m...      1\n",
              "5  b'TOKYO - Sony Corp. is banking on the \\\\$3 bi...      0\n",
              "6  b'Giant pandas may well prefer bamboo to lapto...      3\n",
              "7  b'VILNIUS, Lithuania - Lithuania #39;s main pa...      0\n",
              "8  b'Witnesses in the trial of a US soldier charg...      0\n",
              "9  b'Dan Olsen of Ponte Vedra Beach, Fla., shot a...      1"
            ]
          },
          "metadata": {
            "tags": []
          },
          "execution_count": 10
        }
      ]
    },
    {
      "cell_type": "markdown",
      "metadata": {
        "id": "RoG_cOcMMKgC"
      },
      "source": [
        "### Review Labels (Categories) "
      ]
    },
    {
      "cell_type": "code",
      "metadata": {
        "colab": {
          "base_uri": "https://localhost:8080/"
        },
        "id": "4uBCsL_8tTUU",
        "outputId": "9cd12bb0-9f2f-42bf-aa7c-eed0cb2748e1"
      },
      "source": [
        "print(f'There are {info.features[\"label\"].num_classes} classes in the dataset.')\n",
        "print(f'The class names are {info.features[\"label\"].names}')"
      ],
      "execution_count": null,
      "outputs": [
        {
          "output_type": "stream",
          "text": [
            "There are 4 classes in the dataset.\n",
            "The class names are ['World', 'Sports', 'Business', 'Sci/Tech']\n"
          ],
          "name": "stdout"
        }
      ]
    },
    {
      "cell_type": "code",
      "metadata": {
        "colab": {
          "base_uri": "https://localhost:8080/"
        },
        "id": "fRbULmnCtTXo",
        "outputId": "46a6dd6f-ca3c-4e61-97e7-52bbc8cbc3e3"
      },
      "source": [
        "# classes dictionary\n",
        "categories =dict(enumerate(info.features[\"label\"].names))\n",
        "categories"
      ],
      "execution_count": null,
      "outputs": [
        {
          "output_type": "execute_result",
          "data": {
            "text/plain": [
              "{0: 'World', 1: 'Sports', 2: 'Business', 3: 'Sci/Tech'}"
            ]
          },
          "metadata": {
            "tags": []
          },
          "execution_count": 11
        }
      ]
    },
    {
      "cell_type": "markdown",
      "metadata": {
        "id": "xXQzudk9MmOs"
      },
      "source": [
        "The 127,600 news articles are evenly distributed among the 4 categories"
      ]
    },
    {
      "cell_type": "code",
      "metadata": {
        "colab": {
          "base_uri": "https://localhost:8080/"
        },
        "id": "PRtOaULstTbJ",
        "outputId": "12592ca6-78eb-4a47-8f8d-a56ce89dda75"
      },
      "source": [
        "train_categories = [categories[label] for label in dataset_all.map(lambda text, label: label).as_numpy_iterator()]\n",
        "Counter(train_categories).most_common()"
      ],
      "execution_count": null,
      "outputs": [
        {
          "output_type": "execute_result",
          "data": {
            "text/plain": [
              "[('Sci/Tech', 31900), ('Sports', 31900), ('Business', 31900), ('World', 31900)]"
            ]
          },
          "metadata": {
            "tags": []
          },
          "execution_count": 12
        }
      ]
    },
    {
      "cell_type": "markdown",
      "metadata": {
        "id": "k6-1-zvxdS8f"
      },
      "source": [
        "We will use the tf.keras.layers.experimental.preprocessing.TextVectorization layer to transform each news article into a \"list\" of non-negative integers representing the tokens in the news article.\n",
        "\n",
        "For the purpose of training our models each such \"encoding\" will have a fixed length corresponding to the news article(s) with the most tokens. Shorter articles will be right-padded with zeros in the encoding. Also to speed up the training process, we will set max_tokens = 1000 so that words not in the vabulary set of top 1000 most common tokes are encoded as 1. But first we set max_tokens = None (which is the default value) in order to get the vocabulary size of the corpus.\n"
      ]
    },
    {
      "cell_type": "code",
      "metadata": {
        "colab": {
          "base_uri": "https://localhost:8080/"
        },
        "id": "WYY7P-aaeU4Z",
        "outputId": "a9f281e7-77b6-4a8d-8e7a-212193a774e5"
      },
      "source": [
        "%%time\n",
        "encoder = tf.keras.layers.experimental.preprocessing.TextVectorization(max_tokens=None)\n",
        "encoder.adapt(dataset_all.map(lambda text, label: text))\n",
        "vocab = np.array(encoder.get_vocabulary())"
      ],
      "execution_count": null,
      "outputs": [
        {
          "output_type": "stream",
          "text": [
            "WARNING:tensorflow:AutoGraph could not transform <function <lambda> at 0x7f028abfa620> and will run it as-is.\n",
            "Cause: could not parse the source code of <function <lambda> at 0x7f028abfa620>: no matching AST found\n",
            "To silence this warning, decorate the function with @tf.autograph.experimental.do_not_convert\n"
          ],
          "name": "stdout"
        },
        {
          "output_type": "stream",
          "text": [
            "WARNING:tensorflow:AutoGraph could not transform <function <lambda> at 0x7f028abfa620> and will run it as-is.\n",
            "Cause: could not parse the source code of <function <lambda> at 0x7f028abfa620>: no matching AST found\n",
            "To silence this warning, decorate the function with @tf.autograph.experimental.do_not_convert\n"
          ],
          "name": "stderr"
        },
        {
          "output_type": "stream",
          "text": [
            "WARNING: AutoGraph could not transform <function <lambda> at 0x7f028abfa620> and will run it as-is.\n",
            "Cause: could not parse the source code of <function <lambda> at 0x7f028abfa620>: no matching AST found\n",
            "To silence this warning, decorate the function with @tf.autograph.experimental.do_not_convert\n",
            "CPU times: user 1min 29s, sys: 26.1 s, total: 1min 55s\n",
            "Wall time: 1min 5s\n"
          ],
          "name": "stdout"
        }
      ]
    },
    {
      "cell_type": "code",
      "metadata": {
        "colab": {
          "base_uri": "https://localhost:8080/"
        },
        "id": "iKGVb8_Jeyig",
        "outputId": "e44c289d-253f-488b-fde1-a22c7a8366f2"
      },
      "source": [
        "print(f\"There are {len(vocab)} vocabulary words in the corpus.\")"
      ],
      "execution_count": null,
      "outputs": [
        {
          "output_type": "stream",
          "text": [
            "There are 95976 vocabulary words in the corpus.\n"
          ],
          "name": "stdout"
        }
      ]
    },
    {
      "cell_type": "markdown",
      "metadata": {
        "id": "PlQ3s9QUe3CX"
      },
      "source": [
        "There are 95976 vocabulary words in the corpus.\n",
        "\n",
        "The .adapt method sets the layer's vocabulary. Here are the first 20 tokens. After the padding and unknown tokens they're sorted by frequency:"
      ]
    },
    {
      "cell_type": "code",
      "metadata": {
        "colab": {
          "base_uri": "https://localhost:8080/"
        },
        "id": "_Z2Io_yoe8zW",
        "outputId": "dacc5623-d1c3-4f4b-f393-c4ef94525bcc"
      },
      "source": [
        "vocab[:20]"
      ],
      "execution_count": null,
      "outputs": [
        {
          "output_type": "execute_result",
          "data": {
            "text/plain": [
              "array(['', '[UNK]', 'the', 'a', 'to', 'of', 'in', 'and', 'on', 'for',\n",
              "       'that', '39s', 'with', 'its', 'as', 'at', 'is', 'said', 'by', 'it'],\n",
              "      dtype='<U150')"
            ]
          },
          "metadata": {
            "tags": []
          },
          "execution_count": 16
        }
      ]
    },
    {
      "cell_type": "markdown",
      "metadata": {
        "id": "Lg0kYN3tfEPJ"
      },
      "source": [
        "Let's use how the encoding works on a sample string all of whose words are in the vocabulary of the corpus"
      ]
    },
    {
      "cell_type": "code",
      "metadata": {
        "colab": {
          "base_uri": "https://localhost:8080/"
        },
        "id": "gE-EfC2CfIcv",
        "outputId": "fc0c7266-0931-4d01-a996-c196caf2cf53"
      },
      "source": [
        "example = \"the dog ran after a red ball as it rolled by the hat on the ground.\"\n",
        "for word in example.split():\n",
        "  print(f'\"{word}\" is {\"*not* \" if word not in vocab  else \"\"}in the vocabulary.')"
      ],
      "execution_count": null,
      "outputs": [
        {
          "output_type": "stream",
          "text": [
            "\"the\" is in the vocabulary.\n",
            "\"dog\" is in the vocabulary.\n",
            "\"ran\" is in the vocabulary.\n",
            "\"after\" is in the vocabulary.\n",
            "\"a\" is in the vocabulary.\n",
            "\"red\" is in the vocabulary.\n",
            "\"ball\" is in the vocabulary.\n",
            "\"as\" is in the vocabulary.\n",
            "\"it\" is in the vocabulary.\n",
            "\"rolled\" is in the vocabulary.\n",
            "\"by\" is in the vocabulary.\n",
            "\"the\" is in the vocabulary.\n",
            "\"hat\" is in the vocabulary.\n",
            "\"on\" is in the vocabulary.\n",
            "\"the\" is in the vocabulary.\n",
            "\"ground.\" is *not* in the vocabulary.\n"
          ],
          "name": "stdout"
        }
      ]
    },
    {
      "cell_type": "code",
      "metadata": {
        "colab": {
          "base_uri": "https://localhost:8080/"
        },
        "id": "MQ3K5w1ZfNYd",
        "outputId": "ab08e268-f68e-4d53-e2b1-e64a408a2deb"
      },
      "source": [
        "encoder(example)"
      ],
      "execution_count": null,
      "outputs": [
        {
          "output_type": "execute_result",
          "data": {
            "text/plain": [
              "<tf.Tensor: shape=(16,), dtype=int64, numpy=\n",
              "array([   2, 5958, 1287,   29,    3,  232, 1414,   14,   19, 2548,   18,\n",
              "          2, 2435,    8,    2,  999])>"
            ]
          },
          "metadata": {
            "tags": []
          },
          "execution_count": 18
        }
      ]
    },
    {
      "cell_type": "markdown",
      "metadata": {
        "id": "wJ0MQCTAfdCL"
      },
      "source": [
        "Let us get the total number of words in the corpus and the sizes of the news articles"
      ]
    },
    {
      "cell_type": "code",
      "metadata": {
        "colab": {
          "base_uri": "https://localhost:8080/"
        },
        "id": "l3TlBRwMfXde",
        "outputId": "3b272bb7-91f3-4131-fa77-ca65b6767c3a"
      },
      "source": [
        "%%time\n",
        "doc_sizes = []\n",
        "corpus = []\n",
        "for example, _ in dataset_all.as_numpy_iterator():\n",
        "  enc_example = encoder(example)\n",
        "  doc_sizes.append(len(enc_example))\n",
        "  corpus+=list(enc_example.numpy())"
      ],
      "execution_count": null,
      "outputs": [
        {
          "output_type": "stream",
          "text": [
            "CPU times: user 5min 49s, sys: 4.38 s, total: 5min 53s\n",
            "Wall time: 5min 34s\n"
          ],
          "name": "stdout"
        }
      ]
    },
    {
      "cell_type": "code",
      "metadata": {
        "id": "XEbVpRHyfXqU",
        "colab": {
          "base_uri": "https://localhost:8080/"
        },
        "outputId": "2031d8e7-c4a0-4a16-8736-48e24f533af1"
      },
      "source": [
        "print(f\"There are {len(corpus)} words in the corpus of {len(doc_sizes)} news articles.\")\n",
        "print(f\"Each news article has between {min(doc_sizes)} and {max(doc_sizes)} tokens in it.\")"
      ],
      "execution_count": null,
      "outputs": [
        {
          "output_type": "stream",
          "text": [
            "There are 3909695 words in the corpus of 127600 news articles.\n",
            "Each news article has between 3 and 173 tokens in it.\n"
          ],
          "name": "stdout"
        }
      ]
    },
    {
      "cell_type": "code",
      "metadata": {
        "id": "mgtVVxL-i8Uo",
        "colab": {
          "base_uri": "https://localhost:8080/",
          "height": 569
        },
        "outputId": "54c12e2f-e3eb-4597-8b21-544d93d479c7"
      },
      "source": [
        "plt.figure(figsize=(15,9))\n",
        "plt.hist(doc_sizes, bins=20,range = (0,120))\n",
        "plt.xlabel(\"Tokens Per Document\")\n",
        "plt.ylabel(\"Number of AG News Articles\")"
      ],
      "execution_count": null,
      "outputs": [
        {
          "output_type": "execute_result",
          "data": {
            "text/plain": [
              "Text(0, 0.5, 'Number of AG News Articles')"
            ]
          },
          "metadata": {
            "tags": []
          },
          "execution_count": 21
        },
        {
          "output_type": "display_data",
          "data": {
            "image/png": "[encoded data removed]",
            "text/plain": [
              "<Figure size 1080x648 with 1 Axes>"
            ]
          },
          "metadata": {
            "tags": [],
            "needs_background": "light"
          }
        }
      ]
    },
    {
      "cell_type": "markdown",
      "metadata": {
        "id": "gu7roRaAjDYH"
      },
      "source": [
        "Encode the news articles using the top 1000 most common words in the corpus"
      ]
    },
    {
      "cell_type": "code",
      "metadata": {
        "id": "Z4fN-QeAjCFZ",
        "colab": {
          "base_uri": "https://localhost:8080/"
        },
        "outputId": "0c83efbd-4227-4e49-baee-0dd75c6ff795"
      },
      "source": [
        "%%time\n",
        "encoder_1000 = tf.keras.layers.experimental.preprocessing.TextVectorization(max_tokens=1000)\n",
        "encoder_1000.adapt(dataset_all.map(lambda text, label: text))\n",
        "vocab_1000 = np.array(encoder_1000.get_vocabulary())"
      ],
      "execution_count": null,
      "outputs": [
        {
          "output_type": "stream",
          "text": [
            "WARNING:tensorflow:AutoGraph could not transform <function <lambda> at 0x7f0b1d697ae8> and will run it as-is.\n",
            "Cause: could not parse the source code of <function <lambda> at 0x7f0b1d697ae8>: no matching AST found\n",
            "To silence this warning, decorate the function with @tf.autograph.experimental.do_not_convert\n"
          ],
          "name": "stdout"
        },
        {
          "output_type": "stream",
          "text": [
            "WARNING:tensorflow:AutoGraph could not transform <function <lambda> at 0x7f0b1d697ae8> and will run it as-is.\n",
            "Cause: could not parse the source code of <function <lambda> at 0x7f0b1d697ae8>: no matching AST found\n",
            "To silence this warning, decorate the function with @tf.autograph.experimental.do_not_convert\n"
          ],
          "name": "stderr"
        },
        {
          "output_type": "stream",
          "text": [
            "WARNING: AutoGraph could not transform <function <lambda> at 0x7f0b1d697ae8> and will run it as-is.\n",
            "Cause: could not parse the source code of <function <lambda> at 0x7f0b1d697ae8>: no matching AST found\n",
            "To silence this warning, decorate the function with @tf.autograph.experimental.do_not_convert\n",
            "CPU times: user 1min 40s, sys: 28.5 s, total: 2min 8s\n",
            "Wall time: 1min 11s\n"
          ],
          "name": "stdout"
        }
      ]
    },
    {
      "cell_type": "markdown",
      "metadata": {
        "id": "M65FlO5QjeFb"
      },
      "source": [
        "The .adapt method sets the layer's vocabulary. Here are the first 20 tokens. After the padding and unknown tokens they're sorted by frequency:"
      ]
    },
    {
      "cell_type": "code",
      "metadata": {
        "id": "BBTFJ-RUjcug",
        "colab": {
          "base_uri": "https://localhost:8080/"
        },
        "outputId": "7e8f4e19-77fb-42ec-cc6e-e691a95e4c04"
      },
      "source": [
        "vocab_1000[:20]"
      ],
      "execution_count": null,
      "outputs": [
        {
          "output_type": "execute_result",
          "data": {
            "text/plain": [
              "array(['', '[UNK]', 'the', 'a', 'to', 'of', 'in', 'and', 'on', 'for',\n",
              "       'that', '39s', 'with', 'its', 'as', 'at', 'is', 'said', 'by', 'it'],\n",
              "      dtype='<U14')"
            ]
          },
          "metadata": {
            "tags": []
          },
          "execution_count": 23
        }
      ]
    },
    {
      "cell_type": "markdown",
      "metadata": {
        "id": "pejvLRAMjlZJ"
      },
      "source": [
        "In particular, 0 is use for padding, 1 for the unknown words, 2 for the common word, i.e. 'the', etc. Let us look at the same example we encoded previously using the encoder for all the vocabulary words. Note that there are now five 1's denoting words that are not in the top 1000 in frequency.\n",
        "\n",
        "We encode the same example as before using the new encoder. Note that there are now 5 out of vocabulary words."
      ]
    },
    {
      "cell_type": "code",
      "metadata": {
        "id": "4Am3_fw5jqBV",
        "colab": {
          "base_uri": "https://localhost:8080/"
        },
        "outputId": "129f6d94-01e4-4669-fe6b-3b09e071ddc4"
      },
      "source": [
        "example = \"the dog ran after a red ball as it rolled by the hat on the ground.\"\n",
        "encoder_1000(example)"
      ],
      "execution_count": null,
      "outputs": [
        {
          "output_type": "execute_result",
          "data": {
            "text/plain": [
              "<tf.Tensor: shape=(16,), dtype=int64, numpy=\n",
              "array([  2,   1,   1,  29,   3, 232,   1,  14,  19,   1,  18,   2,   1,\n",
              "         8,   2, 999])>"
            ]
          },
          "metadata": {
            "tags": []
          },
          "execution_count": 24
        }
      ]
    },
    {
      "cell_type": "code",
      "metadata": {
        "id": "J4OtDWMxjuos",
        "colab": {
          "base_uri": "https://localhost:8080/"
        },
        "outputId": "07d92458-7a4a-416b-ee43-bb1aaabe77fc"
      },
      "source": [
        "for word in example.split():\n",
        "  print(f'\"{word}\" is {\"*not* \" if word not in vocab_1000  else \"\"}in the vocabulary.')"
      ],
      "execution_count": null,
      "outputs": [
        {
          "output_type": "stream",
          "text": [
            "\"the\" is in the vocabulary.\n",
            "\"dog\" is *not* in the vocabulary.\n",
            "\"ran\" is *not* in the vocabulary.\n",
            "\"after\" is in the vocabulary.\n",
            "\"a\" is in the vocabulary.\n",
            "\"red\" is in the vocabulary.\n",
            "\"ball\" is *not* in the vocabulary.\n",
            "\"as\" is in the vocabulary.\n",
            "\"it\" is in the vocabulary.\n",
            "\"rolled\" is *not* in the vocabulary.\n",
            "\"by\" is in the vocabulary.\n",
            "\"the\" is in the vocabulary.\n",
            "\"hat\" is *not* in the vocabulary.\n",
            "\"on\" is in the vocabulary.\n",
            "\"the\" is in the vocabulary.\n",
            "\"ground.\" is *not* in the vocabulary.\n"
          ],
          "name": "stdout"
        }
      ]
    },
    {
      "cell_type": "markdown",
      "metadata": {
        "id": "DbrBW9_zjzOA"
      },
      "source": [
        "We want to determine the number of non-vocabulary words in each news articles (denoted by 1s in the encoding)"
      ]
    },
    {
      "cell_type": "code",
      "metadata": {
        "id": "JoPf9hvsj5h0",
        "colab": {
          "base_uri": "https://localhost:8080/"
        },
        "outputId": "db5f223c-56b8-41b8-9bcf-ee9114efa421"
      },
      "source": [
        "%%time\n",
        "doc1000_sizes = []\n",
        "corpus1000 = []\n",
        "count1000=0\n",
        "useless = 0\n",
        "# stop = 0\n",
        "percents = []\n",
        "for example, _ in dataset_all.as_numpy_iterator():\n",
        "  # stop+=1\n",
        "  # if stop > 5: break\n",
        "  enc_example = encoder_1000(example)\n",
        "  num_ones = tf.math.count_nonzero(enc_example==1).numpy()\n",
        "  percent_ones = round(num_ones*100/len(enc_example))\n",
        "  # print(f\"{percent_ones}%\")\n",
        "  percents.append(percent_ones)\n",
        "\n",
        "  s = set(list(enc_example.numpy()))\n",
        "  if s == {1}: useless+=1\n",
        "\n",
        "  doc1000_sizes.append(len(enc_example))\n",
        "  corpus1000+=list(enc_example.numpy())\n",
        "\n",
        "  count1000 += tf.math.count_nonzero(enc_example>1)"
      ],
      "execution_count": null,
      "outputs": [
        {
          "output_type": "stream",
          "text": [
            "CPU times: user 6min 47s, sys: 8.81 s, total: 6min 56s\n",
            "Wall time: 6min 36s\n"
          ],
          "name": "stdout"
        }
      ]
    },
    {
      "cell_type": "code",
      "metadata": {
        "id": "2vy5wpoAkHCQ",
        "colab": {
          "base_uri": "https://localhost:8080/"
        },
        "outputId": "673f10a0-2c64-41f8-ea81-96d56cb09c76"
      },
      "source": [
        "print(f\"There are {len(corpus1000)} words in the corpus of {len(doc1000_sizes)} news articles.\")\n",
        "print(f\"Each news article has between {min(doc1000_sizes)} and {max(doc1000_sizes)} tokens in it.\")"
      ],
      "execution_count": null,
      "outputs": [
        {
          "output_type": "stream",
          "text": [
            "There are 3909695 words in the corpus of 127600 news articles.\n",
            "Each news article has between 3 and 173 tokens in it.\n"
          ],
          "name": "stdout"
        }
      ]
    },
    {
      "cell_type": "markdown",
      "metadata": {
        "id": "RnJEjOHgkE4Y"
      },
      "source": [
        "\n",
        "\n",
        "Note below that most of the news articles consists of at least 60% (top 1000) vocabulary words (with only 22 out for 127,600 news articles containing no top 1000 vacabulary words)"
      ]
    },
    {
      "cell_type": "code",
      "metadata": {
        "id": "IZFeEWE0kXE5",
        "colab": {
          "base_uri": "https://localhost:8080/"
        },
        "outputId": "6b997224-ff01-49fd-c592-f88e9e480e22"
      },
      "source": [
        "Counter(percents).most_common(10)\n",
        "np.unique(percents, return_counts=True) "
      ],
      "execution_count": null,
      "outputs": [
        {
          "output_type": "execute_result",
          "data": {
            "text/plain": [
              "(array([  0,   3,   4,   5,   6,   7,   8,   9,  10,  11,  12,  13,  14,\n",
              "         15,  16,  17,  18,  19,  20,  21,  22,  23,  24,  25,  26,  27,\n",
              "         28,  29,  30,  31,  32,  33,  34,  35,  36,  37,  38,  39,  40,\n",
              "         41,  42,  43,  44,  45,  46,  47,  48,  49,  50,  51,  52,  53,\n",
              "         54,  55,  56,  57,  58,  59,  60,  61,  62,  63,  64,  65,  66,\n",
              "         67,  68,  69,  70,  71,  72,  73,  74,  75,  76,  77,  78,  79,\n",
              "         80,  81,  82,  83,  84,  85,  86,  87,  88,  89,  90,  91,  92,\n",
              "         93,  95,  97, 100]),\n",
              " array([  12,    5,   20,   29,   49,   71,  120,  137,  172,  274,  486,\n",
              "         368,  682,  777,  828, 1346, 1376, 2123, 1610, 2863, 2687, 3018,\n",
              "        3957, 3315, 4605, 3934, 4148, 5737, 4954, 5072, 6123, 6165, 3255,\n",
              "        5095, 4596, 3438, 5880, 4205, 3109, 4063, 3555, 3030, 2904, 2294,\n",
              "        1967, 1716, 2174,  368, 2486,  234, 1246,  747,  573,  547,  520,\n",
              "         441,  348,  217,  250,  135,  234,   49,  131,  101,   11,  135,\n",
              "          40,   62,   33,   53,    8,   34,   10,   55,   10,    8,   15,\n",
              "           3,   27,    9,    5,   19,    1,    8,   12,    6,   16,   11,\n",
              "           5,    4,    2,    3,    1,    1,   22]))"
            ]
          },
          "metadata": {
            "tags": []
          },
          "execution_count": 28
        }
      ]
    },
    {
      "cell_type": "code",
      "metadata": {
        "id": "PPJDd74Hljwz",
        "colab": {
          "base_uri": "https://localhost:8080/",
          "height": 551
        },
        "outputId": "556d0fa2-11c0-4464-9c15-57fc2150b6a6"
      },
      "source": [
        "plt.figure(figsize=(15,9))\n",
        "plt.hist(percents, 20)\n",
        "plt.ylabel('Number of Documents')\n",
        "plt.xlabel('Percent of Non-Vocabulary Words in a Document');"
      ],
      "execution_count": null,
      "outputs": [
        {
          "output_type": "display_data",
          "data": {
            "image/png": "[encoded data removed]",
            "text/plain": [
              "<Figure size 1080x648 with 1 Axes>"
            ]
          },
          "metadata": {
            "tags": [],
            "needs_background": "light"
          }
        }
      ]
    },
    {
      "cell_type": "code",
      "metadata": {
        "id": "AXb2Q-gVlo08",
        "colab": {
          "base_uri": "https://localhost:8080/"
        },
        "outputId": "cd1c690b-7292-4020-c92c-06442ccdbdaa"
      },
      "source": [
        "print(f\"There are {len(corpus1000)} words in the corpus with {useless} documents not containing any of the top {len(vocab_1000)} vocabulary words.\")\n",
        "print(f\"There are {count1000} top {len(vocab_1000)} vocabulary words in the corpus.\")"
      ],
      "execution_count": null,
      "outputs": [
        {
          "output_type": "stream",
          "text": [
            "There are 3909695 words in the corpus with 22 documents not containing any of the top 1000 vocabulary words.\n",
            "There are 2602670 top 1000 vocabulary words in the corpus.\n"
          ],
          "name": "stdout"
        }
      ]
    },
    {
      "cell_type": "markdown",
      "metadata": {
        "id": "aEPOPb63RNjv"
      },
      "source": [
        "### Preprocessing Data Create Input Pipeline"
      ]
    },
    {
      "cell_type": "code",
      "metadata": {
        "id": "0_tU6cH0ncl0",
        "colab": {
          "base_uri": "https://localhost:8080/"
        },
        "outputId": "b153a198-a146-486a-c0b5-7b6a16c05519"
      },
      "source": [
        "# register  ag_news_subset so that tfds.load doesn't generate a checksum (mismatch) error\n",
        "!python -m tensorflow_datasets.scripts.download_and_prepare --register_checksums --datasets=ag_news_subset\n",
        "\n",
        "# Example Approaches to Split Data Set\n",
        "# dataset, info = tfds.load('ag_news_subset', with_info=True,  split=['train[:]','test[:1000]', 'test[1000:]'],\n",
        "dataset, info = tfds.load('ag_news_subset', with_info=True,  split=['train[:95%]','train[95%:]', 'test[:]'],\n",
        "# dataset, info = tfds.load('ag_news_subset', with_info=True,  split=['train[:114000]','train[114000:]', 'test[:]'],\n",
        "                          as_supervised=True)\n",
        "train_dataset, validation_dataset, test_dataset = dataset\n",
        "# train_dataset, test_dataset = dataset['train'],dataset['test']"
      ],
      "execution_count": null,
      "outputs": [
        {
          "output_type": "stream",
          "text": [
            "2021-02-21 21:47:21.302835: I tensorflow/stream_executor/platform/default/dso_loader.cc:49] Successfully opened dynamic library libcudart.so.10.1\n",
            "I0221 21:47:24.404196 139772104513408 download_and_prepare.py:200] Running download_and_prepare for dataset(s):\n",
            "ag_news_subset\n",
            "I0221 21:47:24.405736 139772104513408 dataset_info.py:361] Load dataset info from /root/tensorflow_datasets/ag_news_subset/1.0.0\n",
            "I0221 21:47:24.407456 139772104513408 download_and_prepare.py:138] download_and_prepare for dataset ag_news_subset/1.0.0...\n",
            "I0221 21:47:24.407842 139772104513408 dataset_builder.py:299] Reusing dataset ag_news_subset (/root/tensorflow_datasets/ag_news_subset/1.0.0)\n",
            "\u001b[1mname: \"ag_news_subset\"\n",
            "description: \"AG is a collection of more than 1 million news articles.\\nNews articles have been gathered from more than 2000  news sources by ComeToMyHead in more than 1 year of activity.\\nComeToMyHead is an academic news search engine which has been running since July, 2004.\\nThe dataset is provided by the academic comunity for research purposes in data mining (clustering, classification, etc),\\ninformation retrieval (ranking, search, etc), xml, data compression, data streaming,\\nand any other non-commercial activity.\\nFor more information, please refer to the link http://www.di.unipi.it/~gulli/AG_corpus_of_news_articles.html .\\n\\nThe AG\\'s news topic classification dataset is constructed by Xiang Zhang (xiang.zhang@nyu.edu) from the dataset above.\\nIt is used as a text classification benchmark in the following paper:\\nXiang Zhang, Junbo Zhao, Yann LeCun. Character-level Convolutional Networks for Text Classification. Advances in Neural Information Processing Systems 28 (NIPS 2015).\\n\\nThe AG\\'s news topic classification dataset is constructed by choosing 4 largest classes from the original corpus.\\nEach class contains 30,000 training samples and 1,900 testing samples.\\nThe total number of training samples is 120,000 and testing 7,600.\"\n",
            "citation: \"@misc{zhang2015characterlevel,\\n    title={Character-level Convolutional Networks for Text Classification},\\n    author={Xiang Zhang and Junbo Zhao and Yann LeCun},\\n    year={2015},\\n    eprint={1509.01626},\\n    archivePrefix={arXiv},\\n    primaryClass={cs.LG}\\n}\"\n",
            "location {\n",
            "  urls: \"https://arxiv.org/abs/1509.01626\"\n",
            "}\n",
            "splits {\n",
            "  name: \"test\"\n",
            "  shard_lengths: 7600\n",
            "  num_bytes: 2226751\n",
            "}\n",
            "splits {\n",
            "  name: \"train\"\n",
            "  shard_lengths: 120000\n",
            "  num_bytes: 35301386\n",
            "}\n",
            "supervised_keys {\n",
            "  input: \"description\"\n",
            "  output: \"label\"\n",
            "}\n",
            "version: \"1.0.0\"\n",
            "download_size: 11784327\n",
            "\u001b[0m\n"
          ],
          "name": "stdout"
        }
      ]
    },
    {
      "cell_type": "code",
      "metadata": {
        "id": "bRc-UUujdLD6"
      },
      "source": [
        "####  Dataset Splits (Training, Test, Validation)\n",
        "#### .8934 Training, .0470 Test, .0596 Validation"
      ],
      "execution_count": null,
      "outputs": []
    },
    {
      "cell_type": "code",
      "metadata": {
        "id": "3TXXMh7Hdr47",
        "colab": {
          "base_uri": "https://localhost:8080/"
        },
        "outputId": "58f1a074-1798-4f53-c938-6e9c2382c308"
      },
      "source": [
        "len(train_dataset),len(validation_dataset),len(test_dataset) \n",
        "# len(train_dataset),len(test_dataset) "
      ],
      "execution_count": null,
      "outputs": [
        {
          "output_type": "execute_result",
          "data": {
            "text/plain": [
              "(114000, 6000, 7600)"
            ]
          },
          "metadata": {
            "tags": []
          },
          "execution_count": 16
        }
      ]
    },
    {
      "cell_type": "markdown",
      "metadata": {
        "id": "e3ISb8oinPnR"
      },
      "source": [
        "### Review Distribution of Categorical Labels for the 114000 training data (news articles)"
      ]
    },
    {
      "cell_type": "code",
      "metadata": {
        "id": "Itjr5Erroxv9",
        "colab": {
          "base_uri": "https://localhost:8080/"
        },
        "outputId": "0db10f87-63f6-4bc7-d8b5-215253ae2680"
      },
      "source": [
        "from collections import Counter\n",
        "train_categories = [categories[label] for label in train_dataset.map(lambda text, label: label).as_numpy_iterator()]\n",
        "Counter(train_categories).most_common()"
      ],
      "execution_count": null,
      "outputs": [
        {
          "output_type": "execute_result",
          "data": {
            "text/plain": [
              "[('Business', 28531), ('Sports', 28495), ('World', 28491), ('Sci/Tech', 28483)]"
            ]
          },
          "metadata": {
            "tags": []
          },
          "execution_count": 13
        }
      ]
    },
    {
      "cell_type": "markdown",
      "metadata": {
        "id": "icCNaXSirCnm"
      },
      "source": [
        "Review Example with Interger Label Encoded Classification(text, label pairs):"
      ]
    },
    {
      "cell_type": "code",
      "metadata": {
        "id": "g469sP9PYbQT",
        "colab": {
          "base_uri": "https://localhost:8080/"
        },
        "outputId": "53720c0c-4e36-472c-c1db-12b06490f570"
      },
      "source": [
        "for example, label in train_dataset.take(1):\n",
        "  print('text: ', example.numpy())\n",
        "  print('class: ', categories[label.numpy()])"
      ],
      "execution_count": null,
      "outputs": [
        {
          "output_type": "stream",
          "text": [
            "text:  b'AMD #39;s new dual-core Opteron chip is designed mainly for corporate computing applications, including databases, Web services, and financial transactions.'\n",
            "class:  Sci/Tech\n"
          ],
          "name": "stdout"
        }
      ]
    },
    {
      "cell_type": "code",
      "metadata": {
        "colab": {
          "base_uri": "https://localhost:8080/"
        },
        "id": "-p0CEtwkJxlD",
        "outputId": "677e745f-c99d-47d4-d380-85cb04c72c06"
      },
      "source": [
        "for x in train_dataset.take(1):\n",
        "  print(x)"
      ],
      "execution_count": null,
      "outputs": [
        {
          "output_type": "stream",
          "text": [
            "(<tf.Tensor: shape=(64,), dtype=string, numpy=\n",
            "array([b'Israeli PM Ariel Sharon appears to have eased his preconditions for resuming talks with the Palestinians.',\n",
            "       b'SiliconValley.com - SBC announced consumer tests of its Internet phone service Tuesday in Los Angeles and three other major cities and said it will offer the low-cost, feature-laden plans to all broadband customers in its 13-state territory including California early next year.',\n",
            "       b'World News: Islamabad, Oct 30 : Pakistan President Pervez Musharraf Saturday said a solution to the dragging Kashmir dispute could be found only if India and Pakistan agreed to move beyond their stated positions on the issue.',\n",
            "       b'Tom Brady threw two touchdown passes and Adam Vinatieri kicked five field goals to lead the New England Patriots past the Buffalo Bills, 29-6, Sunday night.',\n",
            "       b'Iraqi interim Prime Minister Ayad Allawi said Sunday that he was getting closer to authorizing major military action against insurgents in the restive city of Falluja, in Anbar province west of Baghdad.',\n",
            "       b'Ziff Davis - Opinion: Want a quick and easy introduction to Linux? Steven J. Vaughan-Nichols offers two reading suggestions that will help get you started.',\n",
            "       b'It was all very well for Senator John F. Kerry to say he would open bilateral talks with North Korea should he win November #39;s election, but the Democratic ',\n",
            "       b'The Philippine economy rose 6.3 percent year-on-year in the third quarter, higher than the market expectations, the government said Monday.',\n",
            "       b'At only over 1 pound, Sony #39;s VAIO U Ultra Portable PC is a full Microsoft Windows XP computer, on a form factor that resembles that of a PDA.',\n",
            "       b'Canadian Press - CESENA, Italy (CP) - For a few stormy days in October 1944, a young Canadian tank sergeant became part of the Bocchini family in an ancient Italian town caught up in the whirlwind of a world war.',\n",
            "       b'With smartphones gaining in popularity, Nokia has committed to beef up the capabilities of its Series 60 platform to embrace more multimedia features.',\n",
            "       b'LONDON: Russian President Vladimir Putin has forcefully ruled out any negotiations with Chechen separatists following the deaths of more than 350 people in a hostage-taking crisis in southern Russia, The Guardian newspaper reported on Tuesday.',\n",
            "       b'Like Fred Astaire and Ginger Rogers gliding across the silver screen, the planets Venus and Jupiter dance cheek-to-cheek through our morning skies Thursday and Friday.',\n",
            "       b'A disappointing sales forecast from Wal-Mart sent stocks mostly lower yesterday as investors worried that oil prices, which stabilized after last week #39;s highs, would curb ',\n",
            "       b'The United States edged past world champions Germany in a dramatic 2-1 victory to seal their place in the women #39;s football final.',\n",
            "       b\"'So what do we do if Galileo's threatening American lives?'\",\n",
            "       b'Sun Microsystems on Friday will unveil more of its plans for OpenSolaris, the open-source project for the Solaris operating system.',\n",
            "       b'Microsoft CEO Steve Ballmer on Wednesday plunged headfirst into the controversial waters of comparing the benefits and advantages of the Windows platform with Unix and Linux in an executive e-mail he sent to customers, partners and subscribers.',\n",
            "       b'AFP - Japan is racing against the clock to secure the release of a young Japanese man kidnapped by Islamic militants in Iraq, with less than 24 hours to go before a deadline for his execution.',\n",
            "       b'President Bush said on Thursday he\\\\was \"right to take action\" in Iraq even though a new U.S.\\\\report found that Baghdad had no stockpiles of weapons of mass\\\\destruction and that its nuclear program had decayed.',\n",
            "       b\"Company boosts John Chambers' base salary to \\\\$350,000--up from a mere \\\\$1. \",\n",
            "       b'USATODAY.com - Google Desktop Search a cinch; superb though not perfect.',\n",
            "       b'South African international Benni McCarthy has criticised Porto fans who taunted two Chelsea players with racist chants during their Champions League clash.',\n",
            "       b'Canadian Press - ST. MARKS, Fla. (AP) - Frances hammered the Florida Panhandle on Monday, taking a second swing at a storm-weary state where it already had knocked out power to six million people, torn up roofs and boats and been blamed for at least five deaths.',\n",
            "       b'Mark Schwarzer: A commanding presence for Boro throughout but had little chance of stopping Drogbas winning strike. 8. Stuart Parnaby: Solid performance, proved strong in the air ',\n",
            "       b'New Delhi, Sept. 6 (NNN): Concluding their two-day Foreign Ministers-level talks, India and Pakistan on Monday decided to continue the ceasefire, which is in force since November 25, 2003.',\n",
            "       b'Reuters - Powerful regional Afghan commander Ismail\\\\Khan was effectively dismissed as governor of Herat city\\\\Saturday and declined a promotion to the cabinet of President\\\\Hamid Karzai.',\n",
            "       b'AFP - The new prime minister of military-ruled Myanmar was directly behind an attack on opposition leader Aung San Suu Kyi and her convoy last year, the United States charged.',\n",
            "       b\"AP - Michael Young's tying triple sparked a two-run rally in the seventh inning, and the Texas Rangers again pulled within two games of the AL West lead with a 5-4 victory over the Seattle Mariners on Saturday night.\",\n",
            "       b'The Indians have added an infielder and brought back their closer, but their pursuit of a starting pitcher has not gone according to plan.',\n",
            "       b' CHICAGO (Reuters) - Cisco Systems Inc. &lt;A HREF=\"http://www.investor.reuters.com/FullQuote.aspx?ticker=CSCO.O target=/stocks/quickinfo/fullquote\"&gt;CSCO.O&lt;/A&gt;, the  biggest maker of network gear for directing Internet traffic,  on Monday said it will introduce a new line of low-end routers  in the coming weeks aimed at winning more corporate business.',\n",
            "       b'Reuters - Nobel laureate Maurice Wilkins, a\\\\British scientist who played a key role in the discovery of the\\\\double helix structure of DNA, died on Tuesday, his university\\\\said on Wednesday.',\n",
            "       b' WASHINGTON (Reuters) - BellSouth Corp. &lt;A HREF=\"http://www.investor.reuters.com/FullQuote.aspx?ticker=BLS.N target=/stocks/quickinfo/fullquote\"&gt;BLS.N&lt;/A&gt; on Monday  said third-quarter earnings fell due to hurricane damage in the  southeastern U.S.',\n",
            "       b'China successfully launched another satellite Saturday, its 40th consecutive successful liftoff, the government-run Xinhua news agency reported.',\n",
            "       b'A bizarre marine reptile used a neck nearly twice the length of its body to capture its prey, 230 million years ago. Fish saw only its small head in murky waters and, when they came too close, the animal quickly ',\n",
            "       b\"We are at war with Iraq. We have always been at war with Iraq.  This is the first time I've read 1984 all the way to the end, and I finally understand it, and why it's so important. Winston lost entirely, and it was the most complete loss that is possible. This was important, because it sticks in the mind.  Ironically, Orwell understood how to manipulate people's emotions, but he used this knowledge for the good of us all. \",\n",
            "       b'AP - Tight ends Byron Chamberlain and Jed Weaver were among the 20 players cut by the Denver Broncos on Sunday.',\n",
            "       b'NewsFactor - Dell (Nasdaq: DELL) is giving its corporate customers a break, announcing price cuts on\\\\hardware ranging from enterprise servers and workstations, to desktops\\\\and notebooks for large business and institutional customers.',\n",
            "       b'The US Department of Agriculture #39;s Animal and Plant Inspection Service on Wednesday confirmed the presence of soybean rust on a soybean leaf samples taken from two plots associated with a Louisiana State University research farm Nov. 6.',\n",
            "       b'Gary Payton saved his biggest contribution for last, going scoreless for the first time in Boston but stealing the ball in the final seconds to help the Celtics hold off the Toronto Raptors 91-89 Friday night.',\n",
            "       b'BAGHDAD, Iraq, Dec. 4 - Militants carried out deadly strikes in Baghdad and in the northern city of Mosul for the second day on Saturday, with suicide car bomb attacks on police stations and Kurdish militiamen ',\n",
            "       b'Linux servers are on the rise again thanks in part to low-end and x86-64 based servers, according to a new survey by market research firm Gartner.',\n",
            "       b'SAN FRANCISCO - Roy Oswalt will have to overcome a rib injury and Barry Bonds to become the first 19-game winner in the National League.',\n",
            "       b'nited Airlines said today that it was likely to terminate and replace its four employee pension plans with less-generous benefits, a drastic move that the airline said was necessary to attract the financing that would allow it to ...',\n",
            "       b'Description: Days of political unrest in Haiti #39;s capital leave at least 14 people dead. In Port-au-Prince, at least 10 civilians and four police officers have been killed since Thursday, in confrontations ',\n",
            "       b'Eli Manning had a chance, after a shaky start and a resurgent second half, to drive the Giants to a winning touchdown, but fell short in the final minute.',\n",
            "       b'AP - European negotiators resume talks with Iran on Wednesday on a last-chance offer of incentives aimed at getting the Tehran regime to stop enriching uranium and avoid the threat of possible U.N. sanctions.',\n",
            "       b'Two biotech giants are searching for office space in Cambridge in moves that may foreshadow the establishment of larger research facilities.',\n",
            "       b' NEW YORK (Reuters) - Tim Duncan poured in a season-high 34  points and grabbed 13 rebounds as the San Antonio Spurs won  their fifth straight game, 88-80 over the 76ers in Philadelphia  Thursday.',\n",
            "       b'Server shipments and revenue increased in the second quarter as Sun Microsystems Inc. and Dell Inc. gained market share at the expense of Hewlett-Packard Co. (HP) and IBM Corp., according to research released by Gartner Inc. Wednesday.',\n",
            "       b'&lt;strong&gt;Votes, Bits Bytes&lt;/strong&gt; Meetup founder puts Pugs against Repubs',\n",
            "       b' ORLANDO, Fl. (Sports Network) - Hedo Turkoglu came off the  bench to contribute 19 points and Dwight Howard netted 15  points with 11 rebounds, leading the Orlando Magic over the  Dallas Mavericks, 94-84, at TD WaterHouse Center. Steve Francis  fell just shy of a triple-double, finishing with 16 points, 10  boards and nine assists while Grant Hill collected 17 points  with nine rebounds for Orlando, which handed the Mavericks  their first loss of the 2004 season.',\n",
            "       b'CALGARY -- After losing the annual Labour Day Classic last year to the Calgary Stampeders, the Edmonton Eskimos wanted revenge. The Eskimos built up a 19-0 first-half lead and held on for a 25-7 win yesterday ',\n",
            "       b'Secretary of State Colin L. Powell, on the first leg of a hastily-arranged tour of countries devastated by the tsunami, said Monday he would focus on assessing the progress of the relief effort and trying to inspire aid workers and survivors. Powell also said he did not anticipate announcing an increase in the \\\\$350 million in reconstruction assistance pledged by the United States.',\n",
            "       b'Leaders of 21 Asia-Pacific states pledge to bolster anti-terrorism measures and efforts to lower trade barriers.',\n",
            "       b'VeriSign Inc. is continuing its legal fight against the main overseer of the Internet #39;s domain-name system, despite the dismissal last week of its federal lawsuit against the Internet Corporation for Assigned Names and Numbers.',\n",
            "       b'A good Lazio side had no difficulty in administrating the second leg of the Uefa Cup first round in order to qualify to the next stage.',\n",
            "       b'Southampton have been told it was  quot;unacceptable quot; they parted company with manager Paul Sturrock after just two games into the Barclays Premiership season.',\n",
            "       b'RELATIONS within the Australian womens eight rowing crew have hit a new low with Olympian Catriona Oliver slapping much-publicised team-mate Sally Robbins in front of onlookers at anofficial function on Wednesday night.',\n",
            "       b'AP - Paul Davis cleared his mind and a strong performance followed.',\n",
            "       b'Products give business people and programmers a shared language that helps them implement changes quickly.',\n",
            "       b'The Aircraft Mechanics Fraternal Association blasted Alaska Air Group Inc. yesterday over its plan to cut roughly 900 jobs, saying the effort violates its contract and  quot;flies in the face quot; of past calls to improve in-house maintenance.',\n",
            "       b\"Police and National Guard troops fired tear gas and plastic bullets at crowds of angry street vendors in Venezuela's capital Wednesday as officers tried to remove merchants from zones where they are barred from selling their wares.\",\n",
            "       b'Chinese officials Monday rebuffed Secretary of State Colin L. Powell #39;s suggestion they use a possibly conciliatory speech by Taiwanese president Chen Shui-bian to restart '],\n",
            "      dtype=object)>, <tf.Tensor: shape=(64,), dtype=int64, numpy=\n",
            "array([0, 3, 0, 1, 0, 3, 0, 2, 3, 0, 3, 0, 3, 2, 1, 3, 3, 3, 0, 0, 3, 3,\n",
            "       1, 0, 1, 0, 0, 0, 1, 1, 2, 3, 2, 3, 3, 3, 1, 3, 2, 1, 0, 3, 1, 2,\n",
            "       0, 1, 0, 2, 1, 3, 3, 1, 1, 0, 2, 3, 1, 1, 1, 1, 3, 2, 0, 0])>)\n"
          ],
          "name": "stdout"
        }
      ]
    },
    {
      "cell_type": "markdown",
      "metadata": {
        "id": "z2qVJzcEluH_"
      },
      "source": [
        "#### Preprocessing Shuffle Data for Training and Create Batches of `(text, label)` pairs:"
      ]
    },
    {
      "cell_type": "code",
      "metadata": {
        "id": "dDsCaZCDYZgm"
      },
      "source": [
        "BUFFER_SIZE = 10000\n",
        "BATCH_SIZE = 64"
      ],
      "execution_count": null,
      "outputs": []
    },
    {
      "cell_type": "code",
      "metadata": {
        "id": "VznrltNOnUc5"
      },
      "source": [
        "train_dataset = train_dataset.shuffle(BUFFER_SIZE).batch(BATCH_SIZE).prefetch(tf.data.experimental.AUTOTUNE)\n",
        "validation_dataset = validation_dataset.shuffle(BUFFER_SIZE).batch(BATCH_SIZE).prefetch(tf.data.experimental.AUTOTUNE)\n",
        "test_dataset = test_dataset.batch(BATCH_SIZE).prefetch(tf.data.experimental.AUTOTUNE)"
      ],
      "execution_count": null,
      "outputs": []
    },
    {
      "cell_type": "code",
      "metadata": {
        "id": "jqkvdcFv41wC",
        "colab": {
          "base_uri": "https://localhost:8080/"
        },
        "outputId": "c973d057-ff39-497b-a124-86aa3ab2be54"
      },
      "source": [
        "for example, label in train_dataset.take(2):\n",
        "  print('texts: ', example.numpy()[:3])\n",
        "  print()\n",
        "  print('labels: ', label.numpy()[:3])"
      ],
      "execution_count": null,
      "outputs": [
        {
          "output_type": "stream",
          "text": [
            "texts:  [b'CHICAGO - Illinois Gov. Rod Blagojevich yesterday proposed the state ban the sale and rental of violent and sexually explicit video games for children under 18, a restriction that has failed so far elsewhere in the country.'\n",
            " b'Ingram Micro is all set to acquire Tech Pacific, in a move that will significantly impact the Indian IT distribution and channels sector.'\n",
            " b'At least two Iraqis were killed in clashes today between US troops and insurgents in the restive city of Ramadi, as a militant group claimed it had executed 11 members of the Iraqi National Guard.']\n",
            "\n",
            "labels:  [3 2 0]\n",
            "texts:  [b'NEW YORK Sunday afternoon NFL games are staying on CBS and Fox. The league and the networks have agreed to six-year contract extensions in deals worth a combined eight (b) billion dollars.'\n",
            " b'Australia win the toss and bat first in the tri-series final against Pakistan.'\n",
            " b' TOKYO (Reuters) - The Japanese navy was mobilized on  Wednesday for the first time in five years after an  unidentified submarine was spotted in waters off Japan.']\n",
            "\n",
            "labels:  [1 0 0]\n"
          ],
          "name": "stdout"
        }
      ]
    },
    {
      "cell_type": "code",
      "metadata": {
        "id": "HQ_8Srl7Yi2Y",
        "colab": {
          "base_uri": "https://localhost:8080/"
        },
        "outputId": "fc1e3293-8656-492f-c52e-ea6b601a02e6"
      },
      "source": [
        "for example, label in train_dataset.take(2):\n",
        "  print('texts: ', example.numpy()[:3])\n",
        "  print()\n",
        "  print('labels: ', [categories[n] for n in label.numpy()[:3]])\n",
        "  print()"
      ],
      "execution_count": null,
      "outputs": [
        {
          "output_type": "stream",
          "text": [
            "texts:  [b'LABOUR officials yesterday dismissed reports that Tony Blair is contemplating a snap general election in February and insisted that May remained the most likely time for the poll.'\n",
            " b'The worst attack was a car bomb explosion outside a police training center in Baghdad. At least 47 people, mostly new recruits, were killed and more than 100 wounded.'\n",
            " b'FURIOUS Harry Redknapp and Portsmouth chairman Milan Mandaric joined forces today in an astonishing bid to end slurs over Pompey #39;s transfer policy.']\n",
            "\n",
            "labels:  ['World', 'World', 'Sports']\n",
            "\n",
            "texts:  [b'Telstra Corp., Australia #39;s biggest phone company, will next year begin cutting the number of workers among its 4,500 middle managers, spokesman Michael Grealy said.'\n",
            " b'London has unveiled its detailed plans to stage the 2012 Olympics, promising a Games of excellence without extravagance. Bid chief Sebastian Coe said on Friday the city would '\n",
            " b\"AP - Cambodia's newly selected king returned from China on Wednesday to take up the throne after his father, outgoing monarch Norodom Sihanouk, abdicated earlier this month because of poor health.\"]\n",
            "\n",
            "labels:  ['Business', 'Sports', 'World']\n",
            "\n"
          ],
          "name": "stdout"
        }
      ]
    },
    {
      "cell_type": "markdown",
      "metadata": {
        "id": "s5eWCo88voPY"
      },
      "source": [
        "## Create the Text Encoder"
      ]
    },
    {
      "cell_type": "markdown",
      "metadata": {
        "id": "TFevcItw15P_"
      },
      "source": [
        "The raw text loaded by `tfds` needs to be processed before it can be used in a model. The simplest way to process text for training is using the `experimental.preprocessing.TextVectorization` layer. This layer has many capabilities, but this tutorial sticks to the default behavior.\n",
        "\n",
        "Create the layer, and pass the dataset's text to the layer's `.adapt` method:"
      ]
    },
    {
      "cell_type": "markdown",
      "metadata": {
        "id": "BLaLcPcXsY95"
      },
      "source": [
        "The `.adapt` method sets the layer's vocabulary. Here are the first 20 tokens. After the padding and unknown tokens they're sorted by frequency: "
      ]
    },
    {
      "cell_type": "code",
      "metadata": {
        "id": "uC25Lu1Yvuqy"
      },
      "source": [
        "VOCAB_SIZE=1000\n",
        "encoder = tf.keras.layers.experimental.preprocessing.TextVectorization(\n",
        "    max_tokens=VOCAB_SIZE)\n",
        "encoder.adapt(train_dataset.map(lambda text, label: text))"
      ],
      "execution_count": null,
      "outputs": []
    },
    {
      "cell_type": "code",
      "metadata": {
        "id": "s5tP4VcSkTvY",
        "colab": {
          "base_uri": "https://localhost:8080/"
        },
        "outputId": "22acb198-13da-4b89-8c49-d319685691fa"
      },
      "source": [
        "vocab = np.array(encoder.get_vocabulary())\n",
        "len(vocab)"
      ],
      "execution_count": null,
      "outputs": [
        {
          "output_type": "execute_result",
          "data": {
            "text/plain": [
              "1000"
            ]
          },
          "metadata": {
            "tags": []
          },
          "execution_count": 21
        }
      ]
    },
    {
      "cell_type": "code",
      "metadata": {
        "id": "tBoyjjWg0Ac9",
        "colab": {
          "base_uri": "https://localhost:8080/"
        },
        "outputId": "8e61bcc0-8b71-45f5-d8f9-88b8be01a0ec"
      },
      "source": [
        "vocab = np.array(encoder.get_vocabulary())\n",
        "vocab[:20]"
      ],
      "execution_count": null,
      "outputs": [
        {
          "output_type": "execute_result",
          "data": {
            "text/plain": [
              "array(['', '[UNK]', 'the', 'a', 'to', 'of', 'in', 'and', 'on', 'for',\n",
              "       'that', '39s', 'with', 'its', 'as', 'at', 'is', 'said', 'by', 'it'],\n",
              "      dtype='<U14')"
            ]
          },
          "metadata": {
            "tags": []
          },
          "execution_count": 22
        }
      ]
    },
    {
      "cell_type": "markdown",
      "metadata": {
        "id": "vDsxvT47uGi7"
      },
      "source": [
        ""
      ]
    },
    {
      "cell_type": "markdown",
      "metadata": {
        "id": "-rPfbSyoruu3"
      },
      "source": [
        "Here are the 20 least frequent words."
      ]
    },
    {
      "cell_type": "code",
      "metadata": {
        "id": "O6tWoBiwrzyX",
        "colab": {
          "base_uri": "https://localhost:8080/"
        },
        "outputId": "7aabc1a7-b2f6-47fe-fdb6-ef43bd19b65d"
      },
      "source": [
        "vocab[-20:]"
      ],
      "execution_count": null,
      "outputs": [
        {
          "output_type": "execute_result",
          "data": {
            "text/plain": [
              "array(['black', 'turn', 'build', 'countrys', 'advanced', 'whose',\n",
              "       'crisis', 'create', '23', 'sources', 'body', 'militant', 'hope',\n",
              "       'event', 'started', 'ready', 'jones', 'lawsuit', 'focus',\n",
              "       'singapore'], dtype='<U14')"
            ]
          },
          "metadata": {
            "tags": []
          },
          "execution_count": 43
        }
      ]
    },
    {
      "cell_type": "markdown",
      "metadata": {
        "id": "mjId5pua3jHQ"
      },
      "source": [
        "Once the vocabulary is set, the layer can encode text into indices. The tensors of indices are 0-padded to the longest sequence in the batch (unless you set a fixed `output_sequence_length`):"
      ]
    },
    {
      "cell_type": "code",
      "metadata": {
        "id": "RGc7C9WiwRWs",
        "colab": {
          "base_uri": "https://localhost:8080/"
        },
        "outputId": "e4ea8130-009c-471b-e4de-cfb6e89cc666"
      },
      "source": [
        "encoded_example = encoder(example)[:3].numpy()\n",
        "encoded_example"
      ],
      "execution_count": null,
      "outputs": [
        {
          "output_type": "execute_result",
          "data": {
            "text/plain": [
              "array([[ 21,  55,   1,  25,   1,   5, 433,  70, 240,  18, 365,  69,   1,\n",
              "         54,  76,   2,  81, 136,  43, 805,   6,  15, 420,   5, 153, 669,\n",
              "         67, 199,   0,   0,   0,   0,   0,   0,   0,   0,   0,   0,   0,\n",
              "          0,   0,   0,   0,   0,   0],\n",
              "       [  1,   1,  33, 812,   1,   4, 635, 402, 141,  34,   1, 115,  53,\n",
              "          1,   1,   7,   1, 774,   8, 870,   1,   1,   1, 402,   1,   1,\n",
              "          0,   0,   0,   0,   0,   0,   0,   0,   0,   0,   0,   0,   0,\n",
              "          0,   0,   0,   0,   0,   0],\n",
              "       [  1,   1,  50,  41, 167,   4,   2, 823,   5, 540,   1,   1,   1,\n",
              "        130,   2, 640, 365, 424,   0,   0,   0,   0,   0,   0,   0,   0,\n",
              "          0,   0,   0,   0,   0,   0,   0,   0,   0,   0,   0,   0,   0,\n",
              "          0,   0,   0,   0,   0,   0]])"
            ]
          },
          "metadata": {
            "tags": []
          },
          "execution_count": 44
        }
      ]
    },
    {
      "cell_type": "markdown",
      "metadata": {
        "id": "F5cjz0bS39IN"
      },
      "source": [
        "With the default settings, the process is not completely reversible. There are three main reasons for that:\n",
        "\n",
        "1. The default value for `preprocessing.TextVectorization`'s `standardize` argument is `\"lower_and_strip_punctuation\"`.\n",
        "2. The limited vocabulary size and lack of character-based fallback results in some unknown tokens."
      ]
    },
    {
      "cell_type": "code",
      "metadata": {
        "id": "N_tD0QY5wXaK",
        "colab": {
          "base_uri": "https://localhost:8080/"
        },
        "outputId": "d7a14922-8fad-4f3c-e985-9d0337cb493e"
      },
      "source": [
        "for n in range(3):\n",
        "  print(\"Original: \", example[n].numpy())\n",
        "  print(\"Round-trip: \", \" \".join(vocab[encoded_example[n]]))\n",
        "  print()"
      ],
      "execution_count": null,
      "outputs": [
        {
          "output_type": "stream",
          "text": [
            "Original:  b'NEW YORK (CNN/Money) - US stockpiles of crude oil rose by 1.1 million barrels last week, the government reported Wednesday, coming in at half of what analysts had expected.'\n",
            "Round-trip:  new york [UNK] us [UNK] of crude oil rose by 11 million [UNK] last week the government reported wednesday coming in at half of what analysts had expected                 \n",
            "\n",
            "Original:  b\"Baby Bells are spending billions to sell video service over broadband. Can they crack cable and satellite's hold on TV viewers?&lt;br /&gt;\\\\  Image: Video via broadband\"\n",
            "Round-trip:  [UNK] [UNK] are spending [UNK] to sell video service over [UNK] can they [UNK] [UNK] and [UNK] hold on tv [UNK] [UNK] [UNK] video [UNK] [UNK]                   \n",
            "\n",
            "Original:  b'PRAGUE -- Add one more country to the list of those decrying intelligence failures before the Sept. 11 attacks.'\n",
            "Round-trip:  [UNK] [UNK] one more country to the list of those [UNK] [UNK] [UNK] before the sept 11 attacks                           \n",
            "\n"
          ],
          "name": "stdout"
        }
      ]
    },
    {
      "cell_type": "markdown",
      "metadata": {
        "id": "bjUqGVBxGw-t"
      },
      "source": [
        "## Create the model"
      ]
    },
    {
      "cell_type": "markdown",
      "metadata": {
        "id": "W7zsmInBOCPO"
      },
      "source": [
        "![A drawing of the information flow in the model](https://github.com/tensorflow/docs/blob/master/site/en/tutorials/text/images/bidirectional.png?raw=1)"
      ]
    },
    {
      "cell_type": "markdown",
      "metadata": {
        "id": "bgs6nnSTGw-t"
      },
      "source": [
        "Above is a diagram of the model. \n",
        "\n",
        "1. This model can be build as a `tf.keras.Sequential`.\n",
        "\n",
        "1. The first layer is the `encoder`, which converts the text to a sequence of token indices.\n",
        "\n",
        "2. After the encoder is an embedding layer. An embedding layer stores one vector per word. When called, it converts the sequences of word indices to sequences of vectors. These vectors are trainable. After training (on enough data), words with similar meanings often have similar vectors.\n",
        "\n",
        "  This index-lookup is much more efficient than the equivalent operation of passing a one-hot encoded vector through a `tf.keras.layers.Dense` layer.\n",
        "\n",
        "3. A recurrent neural network (RNN) processes sequence input by iterating through the elements. RNNs pass the outputs from one timestep to their input on the next timestep.\n",
        "\n",
        "  The `tf.keras.layers.Bidirectional` wrapper can also be used with an RNN layer. This propagates the input forward and backwards through the RNN layer and then concatenates the final output. \n",
        "\n",
        "  * The main advantage to a bidirectional RNN is that the signal from the beginning of the input doesn't need to be processed all the way through every timestep to affect the output.  \n",
        "\n",
        "  * The main disadvantage of a bidirectional RNN is that you can't efficiently stream predictions as words are being added to the end.\n",
        "\n",
        "1. After the RNN has converted the sequence to a single vector the two `layers.Dense` do some final processing, and convert from this vector representation to a single logit as the classification output. \n"
      ]
    },
    {
      "cell_type": "markdown",
      "metadata": {
        "id": "9EODAFUjNaDC"
      },
      "source": [
        "<div class=\"alert alert-block alert-info\">\n",
        "    <b>tf.keras.layers.Bidirectional</b><br>\n",
        "    https://www.tensorflow.org/api_docs/python/tf/keras/layers/Bidirectional\n",
        "    </div>"
      ]
    },
    {
      "cell_type": "markdown",
      "metadata": {
        "id": "-6Qzwsj5QH0S"
      },
      "source": [
        "<img src=\"https://github.com/djp840/MSDS_458_Public/blob/master/images/BidirectionalRNN.png?raw=1\">"
      ]
    },
    {
      "cell_type": "code",
      "metadata": {
        "id": "LwfoBkmRYcP3"
      },
      "source": [
        "num_classes = 4\n",
        "model = tf.keras.Sequential([\n",
        "                              encoder\n",
        "                              ,tf.keras.layers.Embedding(input_dim=len(encoder.get_vocabulary())\n",
        "                              ,output_dim=64\n",
        "                                # Use masking to handle the variable sequence lengths\n",
        "                              ,mask_zero=True)\n",
        "                              ,tf.keras.layers.Bidirectional(tf.keras.layers.LSTM(64))\n",
        "                              ,tf.keras.layers.Dense(64, activation='relu')\n",
        "                              ,tf.keras.layers.Dense(num_classes,activation='softmax')   # num_classes = 4\n",
        "])"
      ],
      "execution_count": null,
      "outputs": []
    },
    {
      "cell_type": "markdown",
      "metadata": {
        "id": "dfNGE58PNaDD"
      },
      "source": [
        "<div class=\"alert alert-block alert-success\"> \n",
        "Please note that we choose to Keras sequential model here since all the layers in the model only have single input and produce single output. </div>"
      ]
    },
    {
      "cell_type": "markdown",
      "metadata": {
        "id": "KTqE1NQXNaDD"
      },
      "source": [
        "<div class=\"alert alert-block alert-info\"> \n",
        "<b>tf.keras.Model</b><br>\n",
        "https://www.tensorflow.org/api_docs/python/tf/keras/Model\n",
        "</div>  "
      ]
    },
    {
      "cell_type": "markdown",
      "metadata": {
        "id": "RztlbCugEFaI"
      },
      "source": [
        "## Compile Model "
      ]
    },
    {
      "cell_type": "markdown",
      "metadata": {
        "id": "aNazQp3lEDv7"
      },
      "source": [
        "<div class=\"alert alert-block alert-info\">\n",
        "<b>tf.keras.losses.SparseCategoricalCrossentropy</b><br>\n",
        "https://www.tensorflow.org/api_docs/python/tf/keras/losses/SparseCategoricalCrossentropy</div>"
      ]
    },
    {
      "cell_type": "code",
      "metadata": {
        "id": "ZmWbBazIDe_-"
      },
      "source": [
        "model.compile(optimizer=tf.keras.optimizers.Adam(1e-4)\n",
        "              ,loss=tf.keras.losses.SparseCategoricalCrossentropy() # if we set from_logits=True we don not have specify a softmax activation function in the last layer\n",
        "              ,metrics=['accuracy'])"
      ],
      "execution_count": null,
      "outputs": []
    },
    {
      "cell_type": "markdown",
      "metadata": {
        "id": "QIGmIGkkouUb"
      },
      "source": [
        "Please note that Keras sequential model is used here since all the layers in the model only have single input and produce single output. In case you want to use stateful RNN layer, you might want to build your model with Keras functional API or model subclassing so that you can retrieve and reuse the RNN layer states. Please check [Keras RNN guide](https://www.tensorflow.org/guide/keras/rnn#rnn_state_reuse) for more details."
      ]
    },
    {
      "cell_type": "markdown",
      "metadata": {
        "id": "kF-PsCk1LwjY"
      },
      "source": [
        "The embedding layer [uses masking](../../guide/keras/masking_and_padding) to handle the varying sequence-lengths. All the layers after the `Embedding` support masking:"
      ]
    },
    {
      "cell_type": "code",
      "metadata": {
        "id": "87a8-CwfKebw",
        "colab": {
          "base_uri": "https://localhost:8080/"
        },
        "outputId": "f568993b-05e8-4a63-824e-caeb7ca4f545"
      },
      "source": [
        "print([layer.supports_masking for layer in model.layers])"
      ],
      "execution_count": null,
      "outputs": [
        {
          "output_type": "stream",
          "text": [
            "[False, True, True, True, True]\n"
          ],
          "name": "stdout"
        }
      ]
    },
    {
      "cell_type": "markdown",
      "metadata": {
        "id": "zIwH3nto596k"
      },
      "source": [
        "## Train the model"
      ]
    },
    {
      "cell_type": "markdown",
      "metadata": {
        "id": "7oHB6X8i0u2H"
      },
      "source": [
        "<div class=\"alert alert-block alert-success\">\n",
        "    <b>Module: tf.keras.callbacks</b></div>"
      ]
    },
    {
      "cell_type": "markdown",
      "metadata": {
        "id": "th1k9Dha0vCl"
      },
      "source": [
        "<div class=\"alert alert-block alert-info\">\n",
        "<b>tf.keras.callbacks.EarlyStopping</b><br>\n",
        "https://www.tensorflow.org/api_docs/python/tf/keras/callbacks/EarlyStopping</div>\n",
        "\n",
        "<div class=\"alert alert-block alert-info\">\n",
        "<b>tf.keras.callbacks.ModelCheckpoint</b><br>\n",
        "https://www.tensorflow.org/api_docs/python/tf/keras/callbacks/ModelCheckpoint</div>"
      ]
    },
    {
      "cell_type": "code",
      "metadata": {
        "id": "hw86wWS4YgR2",
        "colab": {
          "base_uri": "https://localhost:8080/"
        },
        "outputId": "7e6c8683-2386-41ef-931c-abcf08cf6aa9"
      },
      "source": [
        "history = model.fit(train_dataset\n",
        "                    ,epochs = 10\n",
        "                    ,validation_data=validation_dataset\n",
        "                    ,callbacks=[tf.keras.callbacks.EarlyStopping(monitor='val_accuracy', patience=2)\n",
        "                                ]\n",
        "                    )"
      ],
      "execution_count": null,
      "outputs": [
        {
          "output_type": "stream",
          "text": [
            "Epoch 1/10\n",
            "1782/1782 [==============================] - 155s 87ms/step - loss: 0.3749 - accuracy: 0.8636 - val_loss: 0.3820 - val_accuracy: 0.8635\n",
            "Epoch 2/10\n",
            "1782/1782 [==============================] - 156s 87ms/step - loss: 0.3715 - accuracy: 0.8638 - val_loss: 0.3890 - val_accuracy: 0.8583\n",
            "Epoch 3/10\n",
            "1782/1782 [==============================] - 163s 92ms/step - loss: 0.3689 - accuracy: 0.8649 - val_loss: 0.3756 - val_accuracy: 0.8663\n",
            "Epoch 4/10\n",
            "1782/1782 [==============================] - 166s 93ms/step - loss: 0.3656 - accuracy: 0.8656 - val_loss: 0.3743 - val_accuracy: 0.8663\n",
            "Epoch 5/10\n",
            "1782/1782 [==============================] - 166s 93ms/step - loss: 0.3621 - accuracy: 0.8676 - val_loss: 0.3737 - val_accuracy: 0.8647\n"
          ],
          "name": "stdout"
        }
      ]
    },
    {
      "cell_type": "code",
      "metadata": {
        "id": "BaNbXi43YgUT",
        "colab": {
          "base_uri": "https://localhost:8080/"
        },
        "outputId": "50b238d9-9f2d-4fb9-a74c-a8c722227913"
      },
      "source": [
        "test_loss, test_acc = model.evaluate(test_dataset)\n",
        "\n",
        "print('Test Loss: {}'.format(test_loss))\n",
        "print('Test Accuracy: {}'.format(test_acc))"
      ],
      "execution_count": null,
      "outputs": [
        {
          "output_type": "stream",
          "text": [
            "119/119 [==============================] - 3s 29ms/step - loss: 0.3950 - accuracy: 0.8559\n",
            "Test Loss: 0.395048588514328\n",
            "Test Accuracy: 0.8559210300445557\n"
          ],
          "name": "stdout"
        }
      ]
    },
    {
      "cell_type": "markdown",
      "metadata": {
        "id": "OUZyCyI33fPU"
      },
      "source": [
        "## Plotting Performance Metrics - Single Layer Bidirectional RNN"
      ]
    },
    {
      "cell_type": "markdown",
      "metadata": {
        "id": "uFK6utDG3fjX"
      },
      "source": [
        "We use Matplotlib to create 2 plots--displaying the training and validation loss (resp. accuracy) for each (training) epoch side by side."
      ]
    },
    {
      "cell_type": "code",
      "metadata": {
        "id": "HzEOTxsc1JTJ",
        "colab": {
          "base_uri": "https://localhost:8080/"
        },
        "outputId": "c5dba8e3-7868-43bf-cb2b-573b37b08c3b"
      },
      "source": [
        "history_dict = history.history\n",
        "history_dict.keys()"
      ],
      "execution_count": null,
      "outputs": [
        {
          "output_type": "execute_result",
          "data": {
            "text/plain": [
              "dict_keys(['loss', 'accuracy', 'val_loss', 'val_accuracy'])"
            ]
          },
          "metadata": {
            "tags": []
          },
          "execution_count": 58
        }
      ]
    },
    {
      "cell_type": "code",
      "metadata": {
        "id": "2VV8VwoA1Je1",
        "colab": {
          "base_uri": "https://localhost:8080/",
          "height": 202
        },
        "outputId": "b184edcb-6f33-4b40-fa65-ffb6651296a9"
      },
      "source": [
        "history_df=pd.DataFrame(history_dict)\n",
        "history_df.tail(10)"
      ],
      "execution_count": null,
      "outputs": [
        {
          "output_type": "execute_result",
          "data": {
            "text/html": [
              "<div>\n",
              "<style scoped>\n",
              "    .dataframe tbody tr th:only-of-type {\n",
              "        vertical-align: middle;\n",
              "    }\n",
              "\n",
              "    .dataframe tbody tr th {\n",
              "        vertical-align: top;\n",
              "    }\n",
              "\n",
              "    .dataframe thead th {\n",
              "        text-align: right;\n",
              "    }\n",
              "</style>\n",
              "<table border=\"1\" class=\"dataframe\">\n",
              "  <thead>\n",
              "    <tr style=\"text-align: right;\">\n",
              "      <th></th>\n",
              "      <th>loss</th>\n",
              "      <th>accuracy</th>\n",
              "      <th>val_loss</th>\n",
              "      <th>val_accuracy</th>\n",
              "    </tr>\n",
              "  </thead>\n",
              "  <tbody>\n",
              "    <tr>\n",
              "      <th>0</th>\n",
              "      <td>0.374852</td>\n",
              "      <td>0.863570</td>\n",
              "      <td>0.382021</td>\n",
              "      <td>0.863500</td>\n",
              "    </tr>\n",
              "    <tr>\n",
              "      <th>1</th>\n",
              "      <td>0.371542</td>\n",
              "      <td>0.863825</td>\n",
              "      <td>0.388982</td>\n",
              "      <td>0.858333</td>\n",
              "    </tr>\n",
              "    <tr>\n",
              "      <th>2</th>\n",
              "      <td>0.368905</td>\n",
              "      <td>0.864930</td>\n",
              "      <td>0.375599</td>\n",
              "      <td>0.866333</td>\n",
              "    </tr>\n",
              "    <tr>\n",
              "      <th>3</th>\n",
              "      <td>0.365591</td>\n",
              "      <td>0.865649</td>\n",
              "      <td>0.374270</td>\n",
              "      <td>0.866333</td>\n",
              "    </tr>\n",
              "    <tr>\n",
              "      <th>4</th>\n",
              "      <td>0.362146</td>\n",
              "      <td>0.867553</td>\n",
              "      <td>0.373735</td>\n",
              "      <td>0.864667</td>\n",
              "    </tr>\n",
              "  </tbody>\n",
              "</table>\n",
              "</div>"
            ],
            "text/plain": [
              "       loss  accuracy  val_loss  val_accuracy\n",
              "0  0.374852  0.863570  0.382021      0.863500\n",
              "1  0.371542  0.863825  0.388982      0.858333\n",
              "2  0.368905  0.864930  0.375599      0.866333\n",
              "3  0.365591  0.865649  0.374270      0.866333\n",
              "4  0.362146  0.867553  0.373735      0.864667"
            ]
          },
          "metadata": {
            "tags": []
          },
          "execution_count": 59
        }
      ]
    },
    {
      "cell_type": "code",
      "metadata": {
        "id": "NvA2u5do1JqA"
      },
      "source": [
        "losses = history.history['loss']\n",
        "accs = history.history['accuracy']\n",
        "val_losses = history.history['val_loss']\n",
        "val_accs = history.history['val_accuracy']\n",
        "epochs = len(losses)"
      ],
      "execution_count": null,
      "outputs": []
    },
    {
      "cell_type": "code",
      "metadata": {
        "id": "JGoRjq2T1SUp",
        "colab": {
          "base_uri": "https://localhost:8080/",
          "height": 269
        },
        "outputId": "de6d0180-a49a-418d-c9ce-463c5903ce27"
      },
      "source": [
        "plt.figure(figsize=(16, 4))\n",
        "for i, metrics in enumerate(zip([losses, accs], [val_losses, val_accs], ['Loss', 'Accuracy'])):\n",
        "    plt.subplot(1, 2, i + 1)\n",
        "    plt.plot(range(epochs), metrics[0], label='Training {}'.format(metrics[2]))\n",
        "    plt.plot(range(epochs), metrics[1], label='Validation {}'.format(metrics[2]))\n",
        "    plt.legend()\n",
        "plt.show()"
      ],
      "execution_count": null,
      "outputs": [
        {
          "output_type": "display_data",
          "data": {
            "image/png": "[encoded data removed]",
            "text/plain": [
              "<Figure size 1152x288 with 2 Axes>"
            ]
          },
          "metadata": {
            "tags": [],
            "needs_background": "light"
          }
        }
      ]
    },
    {
      "cell_type": "markdown",
      "metadata": {
        "id": "bawulBahPZQq"
      },
      "source": [
        "## Model Architecture Summary Single Layer Bidirectional RNN"
      ]
    },
    {
      "cell_type": "code",
      "metadata": {
        "id": "KVd7MMCoOjMp",
        "colab": {
          "base_uri": "https://localhost:8080/"
        },
        "outputId": "6db59ddd-2b86-4885-b009-e58107a26cca"
      },
      "source": [
        "model.summary()"
      ],
      "execution_count": null,
      "outputs": [
        {
          "output_type": "stream",
          "text": [
            "Model: \"sequential\"\n",
            "_________________________________________________________________\n",
            "Layer (type)                 Output Shape              Param #   \n",
            "=================================================================\n",
            "text_vectorization_2 (TextVe (None, None)              0         \n",
            "_________________________________________________________________\n",
            "embedding (Embedding)        (None, None, 64)          64000     \n",
            "_________________________________________________________________\n",
            "bidirectional (Bidirectional (None, 128)               66048     \n",
            "_________________________________________________________________\n",
            "dense (Dense)                (None, 64)                8256      \n",
            "_________________________________________________________________\n",
            "dense_1 (Dense)              (None, 4)                 260       \n",
            "=================================================================\n",
            "Total params: 138,564\n",
            "Trainable params: 138,564\n",
            "Non-trainable params: 0\n",
            "_________________________________________________________________\n"
          ],
          "name": "stdout"
        }
      ]
    },
    {
      "cell_type": "code",
      "metadata": {
        "id": "2o0oUFPAOjht",
        "colab": {
          "base_uri": "https://localhost:8080/",
          "height": 644
        },
        "outputId": "06b58f14-cb54-44cb-b973-64cd7058c9ea"
      },
      "source": [
        "keras.utils.plot_model(model, \"BiDirectionalLSTM.png\", show_shapes=True)"
      ],
      "execution_count": null,
      "outputs": [
        {
          "output_type": "execute_result",
          "data": {
            "image/png": "[encoded data removed]",
            "text/plain": [
              "<IPython.core.display.Image object>"
            ]
          },
          "metadata": {
            "tags": []
          },
          "execution_count": 63
        }
      ]
    },
    {
      "cell_type": "markdown",
      "metadata": {
        "id": "7g1evcaRpTKm"
      },
      "source": [
        "## Stack two or more LSTM layers\n",
        "\n",
        "Keras recurrent layers have two available modes that are controlled by the `return_sequences` constructor argument:\n",
        "\n",
        "* If `False` it returns only the last output for each input sequence (a 2D tensor of shape (batch_size, output_features)). This is the default, used in the previous model.\n",
        "\n",
        "* If `True` the full sequences of successive outputs for each timestep is returned (a 3D tensor of shape `(batch_size, timesteps, output_features)`).\n",
        "\n",
        "Here is what the flow of information looks like with `return_sequences=True`:\n",
        "\n",
        "![layered_bidirectional]?raw=1\""
      ]
    },
    {
      "cell_type": "markdown",
      "metadata": {
        "id": "wbSClCrG1z8l"
      },
      "source": [
        "The interesting thing about using an `RNN` with `return_sequences=True` is that the output still has 3-axes, like the input, so it can be passed to another RNN layer, like this:"
      ]
    },
    {
      "cell_type": "markdown",
      "metadata": {
        "id": "TJTx1dsTRUtW"
      },
      "source": [
        "<img src=\"https://github.com/djp840/MSDS_458_Public/blob/master/images/multilayerBidirectionalLSTM.png?raw=1\">"
      ]
    },
    {
      "cell_type": "code",
      "metadata": {
        "id": "jo1jjO3vn0jo"
      },
      "source": [
        "model2 = tf.keras.Sequential([\n",
        "                              encoder\n",
        "                              ,tf.keras.layers.Embedding(len(encoder.get_vocabulary()), 64, mask_zero=True)\n",
        "                              ,tf.keras.layers.Bidirectional(tf.keras.layers.LSTM(64,  return_sequences=True))\n",
        "                              ,tf.keras.layers.Bidirectional(tf.keras.layers.LSTM(32))\n",
        "                              ,tf.keras.layers.Dense(64, activation='relu')\n",
        "                              ,tf.keras.layers.Dropout(0.5)\n",
        "                              ,tf.keras.layers.Dense(num_classes,activation='softmax')   # not binary since there are num_classes categories\n",
        "])"
      ],
      "execution_count": null,
      "outputs": []
    },
    {
      "cell_type": "markdown",
      "metadata": {
        "id": "iukhoA9vR7gx"
      },
      "source": [
        "<div class=\"alert alert-block alert-info\">\n",
        "<b>tf.keras.losses.SparseCategoricalCrossentropy</b><br>\n",
        "https://www.tensorflow.org/api_docs/python/tf/keras/losses/SparseCategoricalCrossentropy</div>"
      ]
    },
    {
      "cell_type": "code",
      "metadata": {
        "id": "_zjWuJesR72x"
      },
      "source": [
        "model2.compile(optimizer='adam'\n",
        "              ,loss=tf.keras.losses.SparseCategoricalCrossentropy() # if we set from_logits=True we do not have specify a softmax activation function in the last layer\n",
        "              ,metrics=['accuracy'])"
      ],
      "execution_count": null,
      "outputs": []
    },
    {
      "cell_type": "code",
      "metadata": {
        "id": "LeSE-YjdqAeN",
        "colab": {
          "base_uri": "https://localhost:8080/"
        },
        "outputId": "eb8d1e04-920b-4182-ef73-8c319b12b947"
      },
      "source": [
        "history2 = model2.fit(train_dataset\n",
        "                    ,epochs=200\n",
        "                    ,validation_data=validation_dataset\n",
        "                    ,validation_steps=30\n",
        "                    ,callbacks=[tf.keras.callbacks.EarlyStopping(monitor='val_accuracy', patience=2),\n",
        "                                ]\n",
        "                    )"
      ],
      "execution_count": null,
      "outputs": [
        {
          "output_type": "stream",
          "text": [
            "Epoch 1/200\n",
            "1782/1782 [==============================] - 294s 155ms/step - loss: 0.6608 - accuracy: 0.7376 - val_loss: 0.4542 - val_accuracy: 0.8448\n",
            "Epoch 2/200\n",
            "1782/1782 [==============================] - 275s 154ms/step - loss: 0.4313 - accuracy: 0.8497 - val_loss: 0.4472 - val_accuracy: 0.8370\n",
            "Epoch 3/200\n",
            "1782/1782 [==============================] - 273s 153ms/step - loss: 0.4076 - accuracy: 0.8559 - val_loss: 0.4019 - val_accuracy: 0.8562\n",
            "Epoch 4/200\n",
            "1782/1782 [==============================] - 271s 152ms/step - loss: 0.3909 - accuracy: 0.8625 - val_loss: 0.4058 - val_accuracy: 0.8552\n",
            "Epoch 5/200\n",
            "1782/1782 [==============================] - 273s 153ms/step - loss: 0.3698 - accuracy: 0.8678 - val_loss: 0.3725 - val_accuracy: 0.8646\n",
            "Epoch 6/200\n",
            "1782/1782 [==============================] - 269s 151ms/step - loss: 0.3527 - accuracy: 0.8730 - val_loss: 0.3695 - val_accuracy: 0.8656\n",
            "Epoch 7/200\n",
            "1782/1782 [==============================] - 269s 151ms/step - loss: 0.3354 - accuracy: 0.8783 - val_loss: 0.3385 - val_accuracy: 0.8708\n",
            "Epoch 8/200\n",
            "1782/1782 [==============================] - 269s 151ms/step - loss: 0.3208 - accuracy: 0.8833 - val_loss: 0.3756 - val_accuracy: 0.8760\n",
            "Epoch 9/200\n",
            "1782/1782 [==============================] - 270s 151ms/step - loss: 0.3068 - accuracy: 0.8879 - val_loss: 0.3458 - val_accuracy: 0.8714\n",
            "Epoch 10/200\n",
            "1782/1782 [==============================] - 264s 148ms/step - loss: 0.2926 - accuracy: 0.8923 - val_loss: 0.3901 - val_accuracy: 0.8661\n"
          ],
          "name": "stdout"
        }
      ]
    },
    {
      "cell_type": "code",
      "metadata": {
        "id": "_LdwilM1qPM3",
        "colab": {
          "base_uri": "https://localhost:8080/"
        },
        "outputId": "b19044af-9a57-4ccd-f36f-b0a0a67c9765"
      },
      "source": [
        "test_loss, test_acc = model.evaluate(test_dataset)\n",
        "\n",
        "print('Test Loss: {}'.format(test_loss))\n",
        "print('Test Accuracy: {}'.format(test_acc))"
      ],
      "execution_count": null,
      "outputs": [
        {
          "output_type": "stream",
          "text": [
            "119/119 [==============================] - 3s 24ms/step - loss: 0.3950 - accuracy: 0.8559\n",
            "Test Loss: 0.395048588514328\n",
            "Test Accuracy: 0.8559210300445557\n"
          ],
          "name": "stdout"
        }
      ]
    },
    {
      "cell_type": "markdown",
      "metadata": {
        "id": "x44eh6w-SjPa"
      },
      "source": [
        "## Plotting Performance Metrics - Multi-Layer Bidirectional RNN"
      ]
    },
    {
      "cell_type": "markdown",
      "metadata": {
        "id": "7YwGAxu3SjbG"
      },
      "source": [
        "We use Matplotlib to create 2 plots--displaying the training and validation loss (resp. accuracy) for each (training) epoch side by side."
      ]
    },
    {
      "cell_type": "code",
      "metadata": {
        "id": "l5Wa2bx7Suny",
        "colab": {
          "base_uri": "https://localhost:8080/"
        },
        "outputId": "f31ed0e6-2e24-455a-d898-17543d78b34a"
      },
      "source": [
        "history_dict2 = history2.history\n",
        "history_dict2.keys()"
      ],
      "execution_count": null,
      "outputs": [
        {
          "output_type": "execute_result",
          "data": {
            "text/plain": [
              "dict_keys(['loss', 'accuracy', 'val_loss', 'val_accuracy'])"
            ]
          },
          "metadata": {
            "tags": []
          },
          "execution_count": 68
        }
      ]
    },
    {
      "cell_type": "code",
      "metadata": {
        "id": "cwzqjLbrSurM",
        "colab": {
          "base_uri": "https://localhost:8080/",
          "height": 202
        },
        "outputId": "0a671df8-3eea-4c66-f9e0-6b05ededd6ae"
      },
      "source": [
        "history2_df=pd.DataFrame(history_dict2)\n",
        "history2_df.tail()"
      ],
      "execution_count": null,
      "outputs": [
        {
          "output_type": "execute_result",
          "data": {
            "text/html": [
              "<div>\n",
              "<style scoped>\n",
              "    .dataframe tbody tr th:only-of-type {\n",
              "        vertical-align: middle;\n",
              "    }\n",
              "\n",
              "    .dataframe tbody tr th {\n",
              "        vertical-align: top;\n",
              "    }\n",
              "\n",
              "    .dataframe thead th {\n",
              "        text-align: right;\n",
              "    }\n",
              "</style>\n",
              "<table border=\"1\" class=\"dataframe\">\n",
              "  <thead>\n",
              "    <tr style=\"text-align: right;\">\n",
              "      <th></th>\n",
              "      <th>loss</th>\n",
              "      <th>accuracy</th>\n",
              "      <th>val_loss</th>\n",
              "      <th>val_accuracy</th>\n",
              "    </tr>\n",
              "  </thead>\n",
              "  <tbody>\n",
              "    <tr>\n",
              "      <th>5</th>\n",
              "      <td>0.351727</td>\n",
              "      <td>0.873798</td>\n",
              "      <td>0.369507</td>\n",
              "      <td>0.865625</td>\n",
              "    </tr>\n",
              "    <tr>\n",
              "      <th>6</th>\n",
              "      <td>0.335882</td>\n",
              "      <td>0.878342</td>\n",
              "      <td>0.338529</td>\n",
              "      <td>0.870833</td>\n",
              "    </tr>\n",
              "    <tr>\n",
              "      <th>7</th>\n",
              "      <td>0.322344</td>\n",
              "      <td>0.883342</td>\n",
              "      <td>0.375616</td>\n",
              "      <td>0.876042</td>\n",
              "    </tr>\n",
              "    <tr>\n",
              "      <th>8</th>\n",
              "      <td>0.308732</td>\n",
              "      <td>0.887351</td>\n",
              "      <td>0.345838</td>\n",
              "      <td>0.871354</td>\n",
              "    </tr>\n",
              "    <tr>\n",
              "      <th>9</th>\n",
              "      <td>0.293879</td>\n",
              "      <td>0.892368</td>\n",
              "      <td>0.390055</td>\n",
              "      <td>0.866146</td>\n",
              "    </tr>\n",
              "  </tbody>\n",
              "</table>\n",
              "</div>"
            ],
            "text/plain": [
              "       loss  accuracy  val_loss  val_accuracy\n",
              "5  0.351727  0.873798  0.369507      0.865625\n",
              "6  0.335882  0.878342  0.338529      0.870833\n",
              "7  0.322344  0.883342  0.375616      0.876042\n",
              "8  0.308732  0.887351  0.345838      0.871354\n",
              "9  0.293879  0.892368  0.390055      0.866146"
            ]
          },
          "metadata": {
            "tags": []
          },
          "execution_count": 69
        }
      ]
    },
    {
      "cell_type": "code",
      "metadata": {
        "id": "5CrnwjN7Suu5"
      },
      "source": [
        "losses = history2.history['loss']\n",
        "accs = history2.history['accuracy']\n",
        "val_losses = history2.history['val_loss']\n",
        "val_accs = history2.history['val_accuracy']\n",
        "epochs = len(losses)"
      ],
      "execution_count": null,
      "outputs": []
    },
    {
      "cell_type": "code",
      "metadata": {
        "id": "Uw20TBZxSuye",
        "colab": {
          "base_uri": "https://localhost:8080/",
          "height": 265
        },
        "outputId": "15220faf-298c-45ba-dda2-4b92bc159b0d"
      },
      "source": [
        "plt.figure(figsize=(16, 4))\n",
        "for i, metrics in enumerate(zip([losses, accs], [val_losses, val_accs], ['Loss', 'Accuracy'])):\n",
        "    plt.subplot(1, 2, i + 1)\n",
        "    plt.plot(range(epochs), metrics[0], label='Training {}'.format(metrics[2]))\n",
        "    plt.plot(range(epochs), metrics[1], label='Validation {}'.format(metrics[2]))\n",
        "    plt.legend()\n",
        "plt.show()"
      ],
      "execution_count": null,
      "outputs": [
        {
          "output_type": "display_data",
          "data": {
            "image/png": "[encoded data removed]",
            "text/plain": [
              "<Figure size 1152x288 with 2 Axes>"
            ]
          },
          "metadata": {
            "tags": [],
            "needs_background": "light"
          }
        }
      ]
    },
    {
      "cell_type": "markdown",
      "metadata": {
        "id": "A3RlxHyPTCrD"
      },
      "source": [
        "#### Model Architecture Summary Single Layer Bidirectional RNN"
      ]
    },
    {
      "cell_type": "code",
      "metadata": {
        "id": "idRIHfoySu12",
        "colab": {
          "base_uri": "https://localhost:8080/"
        },
        "outputId": "373fc6cc-d43f-41a7-fca1-8abd9dc1c871"
      },
      "source": [
        "model2.summary()"
      ],
      "execution_count": null,
      "outputs": [
        {
          "output_type": "stream",
          "text": [
            "Model: \"sequential_1\"\n",
            "_________________________________________________________________\n",
            "Layer (type)                 Output Shape              Param #   \n",
            "=================================================================\n",
            "text_vectorization_2 (TextVe (None, None)              0         \n",
            "_________________________________________________________________\n",
            "embedding_1 (Embedding)      (None, None, 64)          64000     \n",
            "_________________________________________________________________\n",
            "bidirectional_1 (Bidirection (None, None, 128)         66048     \n",
            "_________________________________________________________________\n",
            "bidirectional_2 (Bidirection (None, 64)                41216     \n",
            "_________________________________________________________________\n",
            "dense_2 (Dense)              (None, 64)                4160      \n",
            "_________________________________________________________________\n",
            "dropout (Dropout)            (None, 64)                0         \n",
            "_________________________________________________________________\n",
            "dense_3 (Dense)              (None, 4)                 260       \n",
            "=================================================================\n",
            "Total params: 175,684\n",
            "Trainable params: 175,684\n",
            "Non-trainable params: 0\n",
            "_________________________________________________________________\n"
          ],
          "name": "stdout"
        }
      ]
    },
    {
      "cell_type": "code",
      "metadata": {
        "id": "o01y6ZMVTF8J",
        "colab": {
          "base_uri": "https://localhost:8080/",
          "height": 865
        },
        "outputId": "19d520d4-f265-4907-c8fe-68501bafac14"
      },
      "source": [
        "keras.utils.plot_model(model2, \"2Layer_BiDirectionalLSTM.png\", show_shapes=True)"
      ],
      "execution_count": null,
      "outputs": [
        {
          "output_type": "execute_result",
          "data": {
            "image/png": "[encoded data removed]",
            "text/plain": [
              "<IPython.core.display.Image object>"
            ]
          },
          "metadata": {
            "tags": []
          },
          "execution_count": 73
        }
      ]
    },
    {
      "cell_type": "markdown",
      "metadata": {
        "id": "9xvpE3BaGw_V"
      },
      "source": [
        "Check out other existing recurrent layers such as [GRU layers](https://www.tensorflow.org/api_docs/python/tf/keras/layers/GRU).\n",
        "\n",
        "If you're interestied in building custom RNNs, see the [Keras RNN Guide](../../guide/keras/rnn.ipynb).\n"
      ]
    },
    {
      "cell_type": "code",
      "metadata": {
        "colab": {
          "base_uri": "https://localhost:8080/"
        },
        "id": "EVPjfPK3QpiV",
        "outputId": "4aeb732a-8cb8-410a-9796-ff2b65d1b004"
      },
      "source": [
        "model.save('/content/gdrive/My Drive/Colab Notebooks/Assignment3/model.tf')"
      ],
      "execution_count": null,
      "outputs": [
        {
          "output_type": "stream",
          "text": [
            "WARNING:absl:Found untraced functions such as lstm_cell_1_layer_call_fn, lstm_cell_1_layer_call_and_return_conditional_losses, lstm_cell_2_layer_call_fn, lstm_cell_2_layer_call_and_return_conditional_losses, lstm_cell_1_layer_call_fn while saving (showing 5 of 10). These functions will not be directly callable after loading.\n",
            "WARNING:absl:Found untraced functions such as lstm_cell_1_layer_call_fn, lstm_cell_1_layer_call_and_return_conditional_losses, lstm_cell_2_layer_call_fn, lstm_cell_2_layer_call_and_return_conditional_losses, lstm_cell_1_layer_call_fn while saving (showing 5 of 10). These functions will not be directly callable after loading.\n"
          ],
          "name": "stderr"
        },
        {
          "output_type": "stream",
          "text": [
            "INFO:tensorflow:Assets written to: /content/gdrive/My Drive/Colab Notebooks/Assignment3/model.tf/assets\n"
          ],
          "name": "stdout"
        },
        {
          "output_type": "stream",
          "text": [
            "INFO:tensorflow:Assets written to: /content/gdrive/My Drive/Colab Notebooks/Assignment3/model.tf/assets\n"
          ],
          "name": "stderr"
        }
      ]
    },
    {
      "cell_type": "code",
      "metadata": {
        "colab": {
          "base_uri": "https://localhost:8080/"
        },
        "id": "-n7rFzANQ8o0",
        "outputId": "23f0a3e9-161c-4744-9fec-e9b2a35f7102"
      },
      "source": [
        "model2.save('/content/gdrive/My Drive/Colab Notebooks/Assignment3/model2.tf')"
      ],
      "execution_count": null,
      "outputs": [
        {
          "output_type": "stream",
          "text": [
            "WARNING:absl:Found untraced functions such as lstm_cell_4_layer_call_fn, lstm_cell_4_layer_call_and_return_conditional_losses, lstm_cell_5_layer_call_fn, lstm_cell_5_layer_call_and_return_conditional_losses, lstm_cell_7_layer_call_fn while saving (showing 5 of 20). These functions will not be directly callable after loading.\n",
            "WARNING:absl:Found untraced functions such as lstm_cell_4_layer_call_fn, lstm_cell_4_layer_call_and_return_conditional_losses, lstm_cell_5_layer_call_fn, lstm_cell_5_layer_call_and_return_conditional_losses, lstm_cell_7_layer_call_fn while saving (showing 5 of 20). These functions will not be directly callable after loading.\n"
          ],
          "name": "stderr"
        },
        {
          "output_type": "stream",
          "text": [
            "INFO:tensorflow:Assets written to: /content/gdrive/My Drive/Colab Notebooks/Assignment3/model2.tf/assets\n"
          ],
          "name": "stdout"
        },
        {
          "output_type": "stream",
          "text": [
            "INFO:tensorflow:Assets written to: /content/gdrive/My Drive/Colab Notebooks/Assignment3/model2.tf/assets\n"
          ],
          "name": "stderr"
        }
      ]
    },
    {
      "cell_type": "code",
      "metadata": {
        "id": "EBefJWslRFK1"
      },
      "source": [
        ""
      ],
      "execution_count": null,
      "outputs": []
    },
    {
      "cell_type": "markdown",
      "metadata": {
        "id": "xFocGGYMRjdC"
      },
      "source": [
        "## Change vocab to 500"
      ]
    },
    {
      "cell_type": "code",
      "metadata": {
        "id": "jscheh-aRloC"
      },
      "source": [
        "VOCAB_SIZE=500\n",
        "encoder = tf.keras.layers.experimental.preprocessing.TextVectorization(\n",
        "    max_tokens=VOCAB_SIZE)\n",
        "encoder.adapt(train_dataset.map(lambda text, label: text))"
      ],
      "execution_count": null,
      "outputs": []
    },
    {
      "cell_type": "code",
      "metadata": {
        "colab": {
          "base_uri": "https://localhost:8080/"
        },
        "id": "4Cn6LKO-Rnh6",
        "outputId": "d2e2d070-3bdb-473e-ac63-eae02a647629"
      },
      "source": [
        "vocab = np.array(encoder.get_vocabulary())\n",
        "len(vocab)"
      ],
      "execution_count": null,
      "outputs": [
        {
          "output_type": "execute_result",
          "data": {
            "text/plain": [
              "500"
            ]
          },
          "metadata": {
            "tags": []
          },
          "execution_count": 78
        }
      ]
    },
    {
      "cell_type": "code",
      "metadata": {
        "id": "FYvnDwizSAES"
      },
      "source": [
        "model3 = tf.keras.Sequential([\n",
        "                              encoder\n",
        "                              ,tf.keras.layers.Embedding(len(encoder.get_vocabulary()), 64, mask_zero=True)\n",
        "                              ,tf.keras.layers.Bidirectional(tf.keras.layers.LSTM(64,  return_sequences=True))\n",
        "                              ,tf.keras.layers.Bidirectional(tf.keras.layers.LSTM(32))\n",
        "                              ,tf.keras.layers.Dense(64, activation='relu')\n",
        "                              ,tf.keras.layers.Dropout(0.5)\n",
        "                              ,tf.keras.layers.Dense(num_classes,activation='softmax')   # not binary since there are num_classes categories\n",
        "])"
      ],
      "execution_count": null,
      "outputs": []
    },
    {
      "cell_type": "code",
      "metadata": {
        "id": "YjES81XQSNX3"
      },
      "source": [
        "model3.compile(optimizer='adam'\n",
        "              ,loss=tf.keras.losses.SparseCategoricalCrossentropy() # if we set from_logits=True we do not have specify a softmax activation function in the last layer\n",
        "              ,metrics=['accuracy'])"
      ],
      "execution_count": null,
      "outputs": []
    },
    {
      "cell_type": "code",
      "metadata": {
        "colab": {
          "base_uri": "https://localhost:8080/"
        },
        "id": "jzTx3Z1PR1_C",
        "outputId": "4b256f3f-386a-4cf5-d62d-cbac066d9ede"
      },
      "source": [
        "history3 = model3.fit(train_dataset\n",
        "                    ,epochs=10\n",
        "                    ,validation_data=validation_dataset\n",
        "                    ,validation_steps=30\n",
        "                    ,callbacks=[tf.keras.callbacks.EarlyStopping(monitor='val_accuracy', patience=2),\n",
        "                                ]\n",
        "                    )"
      ],
      "execution_count": null,
      "outputs": [
        {
          "output_type": "stream",
          "text": [
            "Epoch 1/10\n",
            "1782/1782 [==============================] - 278s 147ms/step - loss: 0.7409 - accuracy: 0.6980 - val_loss: 0.4748 - val_accuracy: 0.8401\n",
            "Epoch 2/10\n",
            "1782/1782 [==============================] - 257s 144ms/step - loss: 0.5148 - accuracy: 0.8155 - val_loss: 0.4955 - val_accuracy: 0.8146\n",
            "Epoch 3/10\n",
            "1782/1782 [==============================] - 262s 147ms/step - loss: 0.4951 - accuracy: 0.8208 - val_loss: 0.4281 - val_accuracy: 0.8479\n",
            "Epoch 4/10\n",
            "1782/1782 [==============================] - 259s 145ms/step - loss: 0.4781 - accuracy: 0.8275 - val_loss: 0.4565 - val_accuracy: 0.8292\n",
            "Epoch 5/10\n",
            "1782/1782 [==============================] - 257s 144ms/step - loss: 0.4625 - accuracy: 0.8309 - val_loss: 0.4417 - val_accuracy: 0.8292\n"
          ],
          "name": "stdout"
        }
      ]
    },
    {
      "cell_type": "code",
      "metadata": {
        "colab": {
          "base_uri": "https://localhost:8080/"
        },
        "id": "JyILErwAc0ZP",
        "outputId": "dfe26c59-5b74-46e8-ecc7-b8128431880c"
      },
      "source": [
        "model3.save('/content/gdrive/My Drive/Colab Notebooks/Assignment3/model3.tf')"
      ],
      "execution_count": null,
      "outputs": [
        {
          "output_type": "stream",
          "text": [
            "WARNING:absl:Found untraced functions such as lstm_cell_10_layer_call_fn, lstm_cell_10_layer_call_and_return_conditional_losses, lstm_cell_11_layer_call_fn, lstm_cell_11_layer_call_and_return_conditional_losses, lstm_cell_13_layer_call_fn while saving (showing 5 of 20). These functions will not be directly callable after loading.\n",
            "WARNING:absl:Found untraced functions such as lstm_cell_10_layer_call_fn, lstm_cell_10_layer_call_and_return_conditional_losses, lstm_cell_11_layer_call_fn, lstm_cell_11_layer_call_and_return_conditional_losses, lstm_cell_13_layer_call_fn while saving (showing 5 of 20). These functions will not be directly callable after loading.\n"
          ],
          "name": "stderr"
        },
        {
          "output_type": "stream",
          "text": [
            "INFO:tensorflow:Assets written to: /content/gdrive/My Drive/Colab Notebooks/Assignment3/model3.tf/assets\n"
          ],
          "name": "stdout"
        },
        {
          "output_type": "stream",
          "text": [
            "INFO:tensorflow:Assets written to: /content/gdrive/My Drive/Colab Notebooks/Assignment3/model3.tf/assets\n"
          ],
          "name": "stderr"
        }
      ]
    },
    {
      "cell_type": "code",
      "metadata": {
        "id": "qa64EGxbqgO3"
      },
      "source": [
        "model3=keras.models.load_model('/content/gdrive/My Drive/Colab Notebooks/Assignment3/model3.tf')"
      ],
      "execution_count": null,
      "outputs": []
    },
    {
      "cell_type": "code",
      "metadata": {
        "colab": {
          "base_uri": "https://localhost:8080/"
        },
        "id": "rxL3n_iHrDmL",
        "outputId": "49c0606a-859d-4b07-c955-baacc935c780"
      },
      "source": [
        "test_loss, test_acc = model3.evaluate(test_dataset)\n",
        "\n",
        "print('Test Loss: {}'.format(test_loss))\n",
        "print('Test Accuracy: {}'.format(test_acc))"
      ],
      "execution_count": null,
      "outputs": [
        {
          "output_type": "stream",
          "text": [
            "119/119 [==============================] - 8s 33ms/step - loss: 0.4576 - accuracy: 0.8305\n",
            "Test Loss: 0.4575806260108948\n",
            "Test Accuracy: 0.8305262923240662\n"
          ],
          "name": "stdout"
        }
      ]
    },
    {
      "cell_type": "markdown",
      "metadata": {
        "id": "8WlSwJ-tYBI3"
      },
      "source": [
        "## Change Vocab to 2000"
      ]
    },
    {
      "cell_type": "code",
      "metadata": {
        "id": "zLUO0JpaSPfb"
      },
      "source": [
        "VOCAB_SIZE=2000\n",
        "encoder = tf.keras.layers.experimental.preprocessing.TextVectorization(\n",
        "    max_tokens=VOCAB_SIZE)\n",
        "encoder.adapt(train_dataset.map(lambda text, label: text))"
      ],
      "execution_count": null,
      "outputs": []
    },
    {
      "cell_type": "code",
      "metadata": {
        "colab": {
          "base_uri": "https://localhost:8080/"
        },
        "id": "_9lXNeOOYFs-",
        "outputId": "a2e9461a-cb52-4289-fbd7-ead99c699dd9"
      },
      "source": [
        "vocab = np.array(encoder.get_vocabulary())\n",
        "len(vocab)"
      ],
      "execution_count": null,
      "outputs": [
        {
          "output_type": "execute_result",
          "data": {
            "text/plain": [
              "2000"
            ]
          },
          "metadata": {
            "tags": []
          },
          "execution_count": 83
        }
      ]
    },
    {
      "cell_type": "code",
      "metadata": {
        "id": "WHaZuDlTYH7t"
      },
      "source": [
        "model4 = tf.keras.Sequential([\n",
        "                              encoder\n",
        "                              ,tf.keras.layers.Embedding(len(encoder.get_vocabulary()), 64, mask_zero=True)\n",
        "                              ,tf.keras.layers.Bidirectional(tf.keras.layers.LSTM(64,  return_sequences=True))\n",
        "                              ,tf.keras.layers.Bidirectional(tf.keras.layers.LSTM(32))\n",
        "                              ,tf.keras.layers.Dense(64, activation='relu')\n",
        "                              ,tf.keras.layers.Dropout(0.5)\n",
        "                              ,tf.keras.layers.Dense(num_classes,activation='softmax')   # not binary since there are num_classes categories\n",
        "])"
      ],
      "execution_count": null,
      "outputs": []
    },
    {
      "cell_type": "code",
      "metadata": {
        "id": "HB6MOyrjYKrP"
      },
      "source": [
        "model4.compile(optimizer='adam'\n",
        "              ,loss=tf.keras.losses.SparseCategoricalCrossentropy() # if we set from_logits=True we do not have specify a softmax activation function in the last layer\n",
        "              ,metrics=['accuracy'])"
      ],
      "execution_count": null,
      "outputs": []
    },
    {
      "cell_type": "code",
      "metadata": {
        "colab": {
          "base_uri": "https://localhost:8080/"
        },
        "id": "OBRcwGh4YNBw",
        "outputId": "806fb29e-d641-413a-f4f1-ff1c3b0a9792"
      },
      "source": [
        "history4 = model4.fit(train_dataset\n",
        "                    ,epochs=10\n",
        "                    ,validation_data=validation_dataset\n",
        "                    ,validation_steps=30\n",
        "                    ,callbacks=[tf.keras.callbacks.EarlyStopping(monitor='val_accuracy', patience=2),\n",
        "                                ]\n",
        "                    )"
      ],
      "execution_count": null,
      "outputs": [
        {
          "output_type": "stream",
          "text": [
            "Epoch 1/10\n",
            "1782/1782 [==============================] - 280s 148ms/step - loss: 0.5977 - accuracy: 0.7685 - val_loss: 0.3612 - val_accuracy: 0.8792\n",
            "Epoch 2/10\n",
            "1782/1782 [==============================] - 262s 147ms/step - loss: 0.3618 - accuracy: 0.8779 - val_loss: 0.3534 - val_accuracy: 0.8813\n",
            "Epoch 3/10\n",
            "1782/1782 [==============================] - 259s 146ms/step - loss: 0.3353 - accuracy: 0.8842 - val_loss: 0.3282 - val_accuracy: 0.8724\n",
            "Epoch 4/10\n",
            "1782/1782 [==============================] - 263s 147ms/step - loss: 0.3122 - accuracy: 0.8902 - val_loss: 0.3547 - val_accuracy: 0.8734\n"
          ],
          "name": "stdout"
        }
      ]
    },
    {
      "cell_type": "code",
      "metadata": {
        "colab": {
          "base_uri": "https://localhost:8080/",
          "height": 166
        },
        "id": "IfLGlybxYRJn",
        "outputId": "83fa189f-9739-499b-b785-c7f9ea614f83"
      },
      "source": [
        "model4.save('/content/gdrive/My Drive/Colab Notebooks/Assignment3/model4.tf')"
      ],
      "execution_count": null,
      "outputs": [
        {
          "output_type": "error",
          "ename": "NameError",
          "evalue": "ignored",
          "traceback": [
            "\u001b[0;31m---------------------------------------------------------------------------\u001b[0m",
            "\u001b[0;31mNameError\u001b[0m                                 Traceback (most recent call last)",
            "\u001b[0;32m<ipython-input-23-957da22a2e5f>\u001b[0m in \u001b[0;36m<module>\u001b[0;34m()\u001b[0m\n\u001b[0;32m----> 1\u001b[0;31m \u001b[0mmodel4\u001b[0m\u001b[0;34m.\u001b[0m\u001b[0msave\u001b[0m\u001b[0;34m(\u001b[0m\u001b[0;34m'/content/gdrive/My Drive/Colab Notebooks/Assignment3/model4.tf'\u001b[0m\u001b[0;34m)\u001b[0m\u001b[0;34m\u001b[0m\u001b[0;34m\u001b[0m\u001b[0m\n\u001b[0m",
            "\u001b[0;31mNameError\u001b[0m: name 'model4' is not defined"
          ]
        }
      ]
    },
    {
      "cell_type": "code",
      "metadata": {
        "id": "E568lGYndCrn"
      },
      "source": [
        "model4 = keras.models.load_model('/content/gdrive/My Drive/Colab Notebooks/Assignment3/model4.tf')"
      ],
      "execution_count": null,
      "outputs": []
    },
    {
      "cell_type": "code",
      "metadata": {
        "colab": {
          "base_uri": "https://localhost:8080/"
        },
        "id": "EdsCituhpGSF",
        "outputId": "7979d1a0-5c88-48a7-ef81-406bcc14585a"
      },
      "source": [
        "test_loss, test_acc = model4.evaluate(test_dataset)\n",
        "\n",
        "print('Test Loss: {}'.format(test_loss))\n",
        "print('Test Accuracy: {}'.format(test_acc))"
      ],
      "execution_count": null,
      "outputs": [
        {
          "output_type": "stream",
          "text": [
            "119/119 [==============================] - 9s 34ms/step - loss: 0.3439 - accuracy: 0.8822\n",
            "Test Loss: 0.34393635392189026\n",
            "Test Accuracy: 0.8822368383407593\n"
          ],
          "name": "stdout"
        }
      ]
    },
    {
      "cell_type": "code",
      "metadata": {
        "colab": {
          "base_uri": "https://localhost:8080/"
        },
        "id": "uYDIlTz1qbPD",
        "outputId": "fdfeb274-41f2-437d-e58c-75bfe791956a"
      },
      "source": [
        "type(train_dataset)"
      ],
      "execution_count": null,
      "outputs": [
        {
          "output_type": "execute_result",
          "data": {
            "text/plain": [
              "tensorflow.python.data.ops.dataset_ops.PrefetchDataset"
            ]
          },
          "metadata": {
            "tags": []
          },
          "execution_count": 157
        }
      ]
    },
    {
      "cell_type": "markdown",
      "metadata": {
        "id": "t4qUH-wMr08C"
      },
      "source": [
        "## Remove Stop Words"
      ]
    },
    {
      "cell_type": "code",
      "metadata": {
        "id": "EQF9AbU1M-NZ"
      },
      "source": [
        "train_dataset = train_dataset.shuffle(BUFFER_SIZE).batch(BATCH_SIZE).prefetch(tf.data.experimental.AUTOTUNE)\n",
        "validation_dataset = validation_dataset.shuffle(BUFFER_SIZE).batch(BATCH_SIZE).prefetch(tf.data.experimental.AUTOTUNE)\n",
        "test_dataset = test_dataset.batch(BATCH_SIZE).prefetch(tf.data.experimental.AUTOTUNE)"
      ],
      "execution_count": null,
      "outputs": []
    },
    {
      "cell_type": "code",
      "metadata": {
        "colab": {
          "base_uri": "https://localhost:8080/"
        },
        "id": "JdlKIaz-r215",
        "outputId": "8a55c833-757d-48d1-dca9-4faaa388a08a"
      },
      "source": [
        "import nltk\n",
        "nltk.download('stopwords')\n",
        "nltk.download('punkt')\n",
        "from nltk.corpus import stopwords  \n",
        "from nltk.tokenize import word_tokenize\n",
        "\n",
        "def remove_stopwords(data):\n",
        "  stop_words = set(stopwords.words('english'))\n",
        "  data_set=[] \n",
        "  print(len(data)) \n",
        "  for examples, labels in data.take(114000):\n",
        "      #print(len(examples))\n",
        "      labels_ls=[]\n",
        "      for label in labels:\n",
        "        labels_ls.append(label.numpy())\n",
        "      for example in examples:\n",
        "          filtered_data=[]\n",
        "          example=example.numpy().decode(\"utf-8\")\n",
        "          word_tokens = word_tokenize(example) \n",
        "          for w in word_tokens:\n",
        "              w=w.lower()\n",
        "              if w not in stop_words:  \n",
        "                filtered_data.append(w)\n",
        "          filtered_data=' '.join(filtered_data)\n",
        "          filtered_data=filtered_data.encode(\"utf-8\")\n",
        "          data_set.append(filtered_data)\n",
        "      #labels_ls=np.array(labels_ls)\n",
        "      data_set_np=np.array(data_set)\n",
        "      #data_set=np.concatenate(data_set)\n",
        "      #data_set=[list(a) for a in zip(removed_train,labels_ls)]\n",
        "      #data_set=np.concatenate((data_set, labels_ls))\n",
        "  return data_set_np"
      ],
      "execution_count": null,
      "outputs": [
        {
          "output_type": "stream",
          "text": [
            "[nltk_data] Downloading package stopwords to /root/nltk_data...\n",
            "[nltk_data]   Unzipping corpora/stopwords.zip.\n",
            "[nltk_data] Downloading package punkt to /root/nltk_data...\n",
            "[nltk_data]   Unzipping tokenizers/punkt.zip.\n"
          ],
          "name": "stdout"
        }
      ]
    },
    {
      "cell_type": "code",
      "metadata": {
        "colab": {
          "base_uri": "https://localhost:8080/"
        },
        "id": "qt4pHA7jtiDI",
        "outputId": "a86dc6ec-8f9e-4012-df66-317f5bcbb00a"
      },
      "source": [
        "removed_train=remove_stopwords(train_dataset)"
      ],
      "execution_count": null,
      "outputs": [
        {
          "output_type": "stream",
          "text": [
            "1782\n"
          ],
          "name": "stdout"
        }
      ]
    },
    {
      "cell_type": "code",
      "metadata": {
        "id": "tvxAqrElu8bc"
      },
      "source": [
        "VOCAB_SIZE=1000\n",
        "encoder = tf.keras.layers.experimental.preprocessing.TextVectorization(\n",
        "    max_tokens=VOCAB_SIZE)\n",
        "encoder.adapt(removed_train)"
      ],
      "execution_count": null,
      "outputs": []
    },
    {
      "cell_type": "code",
      "metadata": {
        "colab": {
          "base_uri": "https://localhost:8080/"
        },
        "id": "nI9aJX_k0-KJ",
        "outputId": "0baa39db-7561-4d85-a6cb-816b0178201e"
      },
      "source": [
        "vocab = np.array(encoder.get_vocabulary())\n",
        "len(vocab)"
      ],
      "execution_count": null,
      "outputs": [
        {
          "output_type": "execute_result",
          "data": {
            "text/plain": [
              "1000"
            ]
          },
          "metadata": {
            "tags": []
          },
          "execution_count": 23
        }
      ]
    },
    {
      "cell_type": "code",
      "metadata": {
        "colab": {
          "base_uri": "https://localhost:8080/"
        },
        "id": "x_rSKLJtLUDG",
        "outputId": "4ce57d41-e641-4193-ec7a-6af5c0a44930"
      },
      "source": [
        "vocab = np.array(encoder.get_vocabulary())\n",
        "vocab[:20]"
      ],
      "execution_count": null,
      "outputs": [
        {
          "output_type": "execute_result",
          "data": {
            "text/plain": [
              "array(['', '[UNK]', '39', 'said', 's', 'new', 'us', 'reuters', 'quot',\n",
              "       'ap', 'two', 'gt', 'lt', 'first', 'monday', 'wednesday', 'company',\n",
              "       'tuesday', 'world', 'thursday'], dtype='<U34')"
            ]
          },
          "metadata": {
            "tags": []
          },
          "execution_count": 24
        }
      ]
    },
    {
      "cell_type": "code",
      "metadata": {
        "id": "feaXhqBC1iJL"
      },
      "source": [
        "num_classes = 4\n",
        "model5 = tf.keras.Sequential([\n",
        "                              encoder\n",
        "                              ,tf.keras.layers.Embedding(len(encoder.get_vocabulary()), 64, mask_zero=True)\n",
        "                              ,tf.keras.layers.Bidirectional(tf.keras.layers.LSTM(64,  return_sequences=True))\n",
        "                              ,tf.keras.layers.Bidirectional(tf.keras.layers.LSTM(32))\n",
        "                              ,tf.keras.layers.Dense(64, activation='relu')\n",
        "                              ,tf.keras.layers.Dropout(0.5)\n",
        "                              ,tf.keras.layers.Dense(num_classes,activation='softmax')   # not binary since there are num_classes categories\n",
        "])"
      ],
      "execution_count": null,
      "outputs": []
    },
    {
      "cell_type": "code",
      "metadata": {
        "id": "ovDjCqrwIV2Q"
      },
      "source": [
        "model5.compile(optimizer='adam'\n",
        "              ,loss=tf.keras.losses.SparseCategoricalCrossentropy() # if we set from_logits=True we do not have specify a softmax activation function in the last layer\n",
        "              ,metrics=['accuracy'])"
      ],
      "execution_count": null,
      "outputs": []
    },
    {
      "cell_type": "code",
      "metadata": {
        "colab": {
          "base_uri": "https://localhost:8080/"
        },
        "id": "U-k6pPDtK_r8",
        "outputId": "3fdf3fb8-a4d3-4db6-e7cf-015f394a6715"
      },
      "source": [
        "history5 = model5.fit(train_dataset\n",
        "                    ,epochs=10\n",
        "                    ,validation_data=validation_dataset\n",
        "                    ,validation_steps=30\n",
        "                    #,callbacks=[tf.keras.callbacks.EarlyStopping(monitor='val_accuracy', patience=2),\n",
        "                    #            ]\n",
        "                    )"
      ],
      "execution_count": null,
      "outputs": [
        {
          "output_type": "stream",
          "text": [
            "Epoch 1/10\n",
            "1782/1782 [==============================] - 244s 128ms/step - loss: 0.6655 - accuracy: 0.7320 - val_loss: 0.4094 - val_accuracy: 0.8453\n",
            "Epoch 2/10\n",
            "1782/1782 [==============================] - 227s 128ms/step - loss: 0.4320 - accuracy: 0.8493 - val_loss: 0.4104 - val_accuracy: 0.8490\n",
            "Epoch 3/10\n",
            "1782/1782 [==============================] - 226s 127ms/step - loss: 0.4129 - accuracy: 0.8524 - val_loss: 0.3837 - val_accuracy: 0.8589\n",
            "Epoch 4/10\n",
            "1782/1782 [==============================] - 225s 126ms/step - loss: 0.3917 - accuracy: 0.8603 - val_loss: 0.3947 - val_accuracy: 0.8505\n",
            "Epoch 5/10\n",
            "1782/1782 [==============================] - 225s 126ms/step - loss: 0.3718 - accuracy: 0.8657 - val_loss: 0.3554 - val_accuracy: 0.8651\n",
            "Epoch 6/10\n",
            "1782/1782 [==============================] - 226s 127ms/step - loss: 0.3618 - accuracy: 0.8681 - val_loss: 0.3731 - val_accuracy: 0.8641\n",
            "Epoch 7/10\n",
            "1782/1782 [==============================] - 226s 127ms/step - loss: 0.3462 - accuracy: 0.8746 - val_loss: 0.3883 - val_accuracy: 0.8552\n",
            "Epoch 8/10\n",
            "1782/1782 [==============================] - 224s 126ms/step - loss: 0.3332 - accuracy: 0.8776 - val_loss: 0.3941 - val_accuracy: 0.8568\n",
            "Epoch 9/10\n",
            "1782/1782 [==============================] - 223s 125ms/step - loss: 0.3219 - accuracy: 0.8828 - val_loss: 0.3748 - val_accuracy: 0.8630\n",
            "Epoch 10/10\n",
            "1782/1782 [==============================] - 225s 126ms/step - loss: 0.3083 - accuracy: 0.8864 - val_loss: 0.4033 - val_accuracy: 0.8536\n"
          ],
          "name": "stdout"
        }
      ]
    },
    {
      "cell_type": "code",
      "metadata": {
        "colab": {
          "base_uri": "https://localhost:8080/"
        },
        "id": "tU9e9DuG-frv",
        "outputId": "bbbcf32d-e0c6-49c6-edc4-e1bb9bd88d2c"
      },
      "source": [
        "model5.save('/content/gdrive/My Drive/Colab Notebooks/Assignment3/model5.tf')"
      ],
      "execution_count": null,
      "outputs": [
        {
          "output_type": "stream",
          "text": [
            "WARNING:absl:Found untraced functions such as lstm_cell_1_layer_call_and_return_conditional_losses, lstm_cell_1_layer_call_fn, lstm_cell_2_layer_call_and_return_conditional_losses, lstm_cell_2_layer_call_fn, lstm_cell_4_layer_call_and_return_conditional_losses while saving (showing 5 of 20). These functions will not be directly callable after loading.\n",
            "WARNING:absl:Found untraced functions such as lstm_cell_1_layer_call_and_return_conditional_losses, lstm_cell_1_layer_call_fn, lstm_cell_2_layer_call_and_return_conditional_losses, lstm_cell_2_layer_call_fn, lstm_cell_4_layer_call_and_return_conditional_losses while saving (showing 5 of 20). These functions will not be directly callable after loading.\n"
          ],
          "name": "stderr"
        },
        {
          "output_type": "stream",
          "text": [
            "INFO:tensorflow:Assets written to: /content/gdrive/My Drive/Colab Notebooks/Assignment3/model5.tf/assets\n"
          ],
          "name": "stdout"
        },
        {
          "output_type": "stream",
          "text": [
            "INFO:tensorflow:Assets written to: /content/gdrive/My Drive/Colab Notebooks/Assignment3/model5.tf/assets\n"
          ],
          "name": "stderr"
        }
      ]
    },
    {
      "cell_type": "code",
      "metadata": {
        "colab": {
          "base_uri": "https://localhost:8080/"
        },
        "id": "i9f7uF_V-gSS",
        "outputId": "fc0eb760-38be-4e96-b5ba-731121f985a2"
      },
      "source": [
        "test_loss, test_acc = model5.evaluate(test_dataset)\n",
        "\n",
        "print('Test Loss: {}'.format(test_loss))\n",
        "print('Test Accuracy: {}'.format(test_acc))"
      ],
      "execution_count": null,
      "outputs": [
        {
          "output_type": "stream",
          "text": [
            "119/119 [==============================] - 5s 40ms/step - loss: 0.3897 - accuracy: 0.8653\n",
            "Test Loss: 0.38968974351882935\n",
            "Test Accuracy: 0.8652631640434265\n"
          ],
          "name": "stdout"
        }
      ]
    },
    {
      "cell_type": "markdown",
      "metadata": {
        "id": "FSHmHYx_IWNK"
      },
      "source": [
        "## Change Sequence Length"
      ]
    },
    {
      "cell_type": "code",
      "metadata": {
        "id": "JgUNiuG0VvJe"
      },
      "source": [
        "VOCAB_SIZE=1000\n",
        "encoder = tf.keras.layers.experimental.preprocessing.TextVectorization(\n",
        "    max_tokens=VOCAB_SIZE,output_sequence_length=60)\n",
        "encoder.adapt(train_dataset.map(lambda text, label: text))"
      ],
      "execution_count": null,
      "outputs": []
    },
    {
      "cell_type": "code",
      "metadata": {
        "id": "Iwyto2nbYMCh"
      },
      "source": [
        "train_dataset = train_dataset.shuffle(BUFFER_SIZE).batch(BATCH_SIZE).prefetch(tf.data.experimental.AUTOTUNE)\n",
        "validation_dataset = validation_dataset.shuffle(BUFFER_SIZE).batch(BATCH_SIZE).prefetch(tf.data.experimental.AUTOTUNE)\n",
        "test_dataset = test_dataset.batch(BATCH_SIZE).prefetch(tf.data.experimental.AUTOTUNE)"
      ],
      "execution_count": null,
      "outputs": []
    },
    {
      "cell_type": "code",
      "metadata": {
        "id": "iJaTHPUh6BjM"
      },
      "source": [
        "num_classes = 4\n",
        "model6 = tf.keras.Sequential([\n",
        "                              encoder\n",
        "                              ,tf.keras.layers.Embedding(len(encoder.get_vocabulary()), 64, mask_zero=True)\n",
        "                              ,tf.keras.layers.Bidirectional(tf.keras.layers.LSTM(64,  return_sequences=True))\n",
        "                              ,tf.keras.layers.Bidirectional(tf.keras.layers.LSTM(32))\n",
        "                              ,tf.keras.layers.Dense(64, activation='relu')\n",
        "                              ,tf.keras.layers.Dropout(0.5)\n",
        "                              ,tf.keras.layers.Dense(num_classes,activation='softmax')   # not binary since there are num_classes categories\n",
        "])"
      ],
      "execution_count": null,
      "outputs": []
    },
    {
      "cell_type": "code",
      "metadata": {
        "id": "vPY6nAgIWFFG"
      },
      "source": [
        "model6.compile(optimizer='adam'\n",
        "              ,loss=tf.keras.losses.SparseCategoricalCrossentropy() # if we set from_logits=True we do not have specify a softmax activation function in the last layer\n",
        "              ,metrics=['accuracy'])"
      ],
      "execution_count": null,
      "outputs": []
    },
    {
      "cell_type": "code",
      "metadata": {
        "colab": {
          "base_uri": "https://localhost:8080/"
        },
        "id": "RbM5UZAOWOX2",
        "outputId": "ff940437-101b-4aa3-c615-e3156df98109"
      },
      "source": [
        "history6 = model6.fit(train_dataset\n",
        "                    ,epochs=10\n",
        "                    ,validation_data=validation_dataset\n",
        "                    ,validation_steps=30\n",
        "                    ,callbacks=[tf.keras.callbacks.EarlyStopping(monitor='val_accuracy', patience=2),\n",
        "                                ]\n",
        "                    )"
      ],
      "execution_count": null,
      "outputs": [
        {
          "output_type": "stream",
          "text": [
            "Epoch 1/10\n",
            "1782/1782 [==============================] - 233s 121ms/step - loss: 0.6654 - accuracy: 0.7333 - val_loss: 0.4275 - val_accuracy: 0.8516\n",
            "Epoch 2/10\n",
            "1782/1782 [==============================] - 224s 125ms/step - loss: 0.4330 - accuracy: 0.8504 - val_loss: 0.3803 - val_accuracy: 0.8698\n",
            "Epoch 3/10\n",
            "1782/1782 [==============================] - 234s 131ms/step - loss: 0.4086 - accuracy: 0.8561 - val_loss: 0.3883 - val_accuracy: 0.8594\n",
            "Epoch 4/10\n",
            "1782/1782 [==============================] - 231s 130ms/step - loss: 0.3904 - accuracy: 0.8601 - val_loss: 0.3977 - val_accuracy: 0.8589\n"
          ],
          "name": "stdout"
        }
      ]
    },
    {
      "cell_type": "code",
      "metadata": {
        "colab": {
          "base_uri": "https://localhost:8080/"
        },
        "id": "WZyrbMEOWRwb",
        "outputId": "f38fd671-6050-47c8-93f6-09bc63c234b1"
      },
      "source": [
        "model6.save('/content/gdrive/My Drive/Colab Notebooks/Assignment3/model6.tf')"
      ],
      "execution_count": null,
      "outputs": [
        {
          "output_type": "stream",
          "text": [
            "WARNING:absl:Found untraced functions such as lstm_cell_43_layer_call_and_return_conditional_losses, lstm_cell_43_layer_call_fn, lstm_cell_44_layer_call_and_return_conditional_losses, lstm_cell_44_layer_call_fn, lstm_cell_46_layer_call_and_return_conditional_losses while saving (showing 5 of 20). These functions will not be directly callable after loading.\n",
            "WARNING:absl:Found untraced functions such as lstm_cell_43_layer_call_and_return_conditional_losses, lstm_cell_43_layer_call_fn, lstm_cell_44_layer_call_and_return_conditional_losses, lstm_cell_44_layer_call_fn, lstm_cell_46_layer_call_and_return_conditional_losses while saving (showing 5 of 20). These functions will not be directly callable after loading.\n"
          ],
          "name": "stderr"
        },
        {
          "output_type": "stream",
          "text": [
            "INFO:tensorflow:Assets written to: /content/gdrive/My Drive/Colab Notebooks/Assignment3/model6.tf/assets\n"
          ],
          "name": "stdout"
        },
        {
          "output_type": "stream",
          "text": [
            "INFO:tensorflow:Assets written to: /content/gdrive/My Drive/Colab Notebooks/Assignment3/model6.tf/assets\n"
          ],
          "name": "stderr"
        }
      ]
    },
    {
      "cell_type": "code",
      "metadata": {
        "colab": {
          "base_uri": "https://localhost:8080/"
        },
        "id": "Cfpyv7hVcpdg",
        "outputId": "42779a98-471b-4dfd-e606-52825316a9ad"
      },
      "source": [
        "test_loss, test_acc = model6.evaluate(test_dataset)\n",
        "\n",
        "print('Test Loss: {}'.format(test_loss))\n",
        "print('Test Accuracy: {}'.format(test_acc))"
      ],
      "execution_count": null,
      "outputs": [
        {
          "output_type": "stream",
          "text": [
            "119/119 [==============================] - 5s 39ms/step - loss: 0.3966 - accuracy: 0.8579\n",
            "Test Loss: 0.3966323137283325\n",
            "Test Accuracy: 0.8578947186470032\n"
          ],
          "name": "stdout"
        }
      ]
    },
    {
      "cell_type": "markdown",
      "metadata": {
        "id": "skZGNWaVdhUi"
      },
      "source": [
        "## RNN experiment"
      ]
    },
    {
      "cell_type": "code",
      "metadata": {
        "id": "8CrJuMH0dAsE"
      },
      "source": [
        "num_classes = 4\n",
        "model7 = tf.keras.Sequential([\n",
        "                              encoder\n",
        "                              ,tf.keras.layers.Embedding(input_dim=len(encoder.get_vocabulary())\n",
        "                              ,output_dim=64\n",
        "                                # Use masking to handle the variable sequence lengths\n",
        "                              ,mask_zero=True)\n",
        "                              ,tf.keras.layers.Bidirectional(tf.keras.layers.SimpleRNN(64))\n",
        "                              ,tf.keras.layers.Dense(64, activation='relu')\n",
        "                              ,tf.keras.layers.Dense(num_classes,activation='softmax')   # num_classes = 4\n",
        "])"
      ],
      "execution_count": null,
      "outputs": []
    },
    {
      "cell_type": "code",
      "metadata": {
        "id": "YokDRbXxeg7g"
      },
      "source": [
        "model7.compile(optimizer='adam'\n",
        "              ,loss=tf.keras.losses.SparseCategoricalCrossentropy() # if we set from_logits=True we do not have specify a softmax activation function in the last layer\n",
        "              ,metrics=['accuracy'])"
      ],
      "execution_count": null,
      "outputs": []
    },
    {
      "cell_type": "code",
      "metadata": {
        "colab": {
          "base_uri": "https://localhost:8080/"
        },
        "id": "0ynWgukJesCU",
        "outputId": "32311f11-a853-4067-9082-20c924f0e70d"
      },
      "source": [
        "history7 = model7.fit(train_dataset\n",
        "                    ,epochs=10\n",
        "                    ,validation_data=validation_dataset\n",
        "                    ,validation_steps=30\n",
        "                    ,callbacks=[tf.keras.callbacks.EarlyStopping(monitor='val_accuracy', patience=2),\n",
        "                                ]\n",
        "                    )"
      ],
      "execution_count": null,
      "outputs": [
        {
          "output_type": "stream",
          "text": [
            "Epoch 1/10\n",
            "1782/1782 [==============================] - 67s 35ms/step - loss: 0.6889 - accuracy: 0.7123 - val_loss: 0.4339 - val_accuracy: 0.8432\n",
            "Epoch 2/10\n",
            "1782/1782 [==============================] - 64s 36ms/step - loss: 0.4149 - accuracy: 0.8508 - val_loss: 0.4584 - val_accuracy: 0.8344\n",
            "Epoch 3/10\n",
            "1782/1782 [==============================] - 64s 36ms/step - loss: 0.3855 - accuracy: 0.8585 - val_loss: 0.4180 - val_accuracy: 0.8500\n",
            "Epoch 4/10\n",
            "1782/1782 [==============================] - 64s 36ms/step - loss: 0.3586 - accuracy: 0.8688 - val_loss: 0.4086 - val_accuracy: 0.8589\n",
            "Epoch 5/10\n",
            "1782/1782 [==============================] - 64s 36ms/step - loss: 0.3350 - accuracy: 0.8766 - val_loss: 0.4265 - val_accuracy: 0.8557\n",
            "Epoch 6/10\n",
            "1782/1782 [==============================] - 65s 36ms/step - loss: 0.3119 - accuracy: 0.8844 - val_loss: 0.5015 - val_accuracy: 0.8167\n"
          ],
          "name": "stdout"
        }
      ]
    },
    {
      "cell_type": "code",
      "metadata": {
        "colab": {
          "base_uri": "https://localhost:8080/"
        },
        "id": "FYw4hTzvevZy",
        "outputId": "4b54d2c1-f27a-4cf0-a3fa-e6e60661b394"
      },
      "source": [
        "model7.save('/content/gdrive/My Drive/Colab Notebooks/Assignment3/model7.tf')"
      ],
      "execution_count": null,
      "outputs": [
        {
          "output_type": "stream",
          "text": [
            "INFO:tensorflow:Assets written to: /content/gdrive/My Drive/Colab Notebooks/Assignment3/model7.tf/assets\n"
          ],
          "name": "stdout"
        },
        {
          "output_type": "stream",
          "text": [
            "INFO:tensorflow:Assets written to: /content/gdrive/My Drive/Colab Notebooks/Assignment3/model7.tf/assets\n"
          ],
          "name": "stderr"
        }
      ]
    },
    {
      "cell_type": "code",
      "metadata": {
        "id": "sHCle5yEk0o5"
      },
      "source": [
        "#model7=keras.models.load_model('/content/gdrive/My Drive/Colab Notebooks/Assignment3/model7.tf')"
      ],
      "execution_count": null,
      "outputs": []
    },
    {
      "cell_type": "code",
      "metadata": {
        "colab": {
          "base_uri": "https://localhost:8080/"
        },
        "id": "vceWeu3FlH_O",
        "outputId": "e81174f8-5dd3-4a31-97dc-09634ebc56fc"
      },
      "source": [
        "model7.summary()"
      ],
      "execution_count": null,
      "outputs": [
        {
          "output_type": "stream",
          "text": [
            "Model: \"sequential_5\"\n",
            "_________________________________________________________________\n",
            "Layer (type)                 Output Shape              Param #   \n",
            "=================================================================\n",
            "text_vectorization_17 (TextV (None, 60)                0         \n",
            "_________________________________________________________________\n",
            "embedding_7 (Embedding)      (None, 60, 64)            64000     \n",
            "_________________________________________________________________\n",
            "bidirectional_12 (Bidirectio (None, 128)               16512     \n",
            "_________________________________________________________________\n",
            "dense_11 (Dense)             (None, 64)                8256      \n",
            "_________________________________________________________________\n",
            "dense_12 (Dense)             (None, 4)                 260       \n",
            "=================================================================\n",
            "Total params: 89,028\n",
            "Trainable params: 89,028\n",
            "Non-trainable params: 0\n",
            "_________________________________________________________________\n"
          ],
          "name": "stdout"
        }
      ]
    },
    {
      "cell_type": "code",
      "metadata": {
        "colab": {
          "base_uri": "https://localhost:8080/"
        },
        "id": "wBXqF-A4gWUL",
        "outputId": "f8d94090-49b2-4b54-e95b-36bca6a818e5"
      },
      "source": [
        "test_loss, test_acc = model7.evaluate(test_dataset)\n",
        "\n",
        "print('Test Loss: {}'.format(test_loss))\n",
        "print('Test Accuracy: {}'.format(test_acc))"
      ],
      "execution_count": null,
      "outputs": [
        {
          "output_type": "stream",
          "text": [
            "119/119 [==============================] - 1s 9ms/step - loss: 0.5057 - accuracy: 0.8279\n",
            "Test Loss: 0.5057162642478943\n",
            "Test Accuracy: 0.8278947472572327\n"
          ],
          "name": "stdout"
        }
      ]
    },
    {
      "cell_type": "code",
      "metadata": {
        "id": "ezmjbuCEgZ5d"
      },
      "source": [
        ""
      ],
      "execution_count": null,
      "outputs": []
    },
    {
      "cell_type": "markdown",
      "metadata": {
        "id": "DYBZR9xKgb9k"
      },
      "source": [
        "## LSTM Experiment"
      ]
    },
    {
      "cell_type": "code",
      "metadata": {
        "id": "4y665nFcgd4s"
      },
      "source": [
        "num_classes = 4\n",
        "model8 = tf.keras.Sequential([\n",
        "                              encoder\n",
        "                              ,tf.keras.layers.Embedding(len(encoder.get_vocabulary()), 64, mask_zero=True)\n",
        "                              ,tf.keras.layers.LSTM(64)\n",
        "                              ,tf.keras.layers.Dense(64, activation='relu')\n",
        "                              ,tf.keras.layers.Dropout(0.5)\n",
        "                              ,tf.keras.layers.Dense(num_classes,activation='softmax')   # not binary since there are num_classes categories\n",
        "])"
      ],
      "execution_count": null,
      "outputs": []
    },
    {
      "cell_type": "code",
      "metadata": {
        "id": "QDik5tOdg1Fj"
      },
      "source": [
        "model8.compile(optimizer='adam'\n",
        "              ,loss=tf.keras.losses.SparseCategoricalCrossentropy() # if we set from_logits=True we do not have specify a softmax activation function in the last layer\n",
        "              ,metrics=['accuracy'])"
      ],
      "execution_count": null,
      "outputs": []
    },
    {
      "cell_type": "code",
      "metadata": {
        "colab": {
          "base_uri": "https://localhost:8080/"
        },
        "id": "t6p1HYhxg4vR",
        "outputId": "3f46e941-3d2c-4384-c8b0-5f04bf284b21"
      },
      "source": [
        "history8 = model8.fit(train_dataset\n",
        "                    ,epochs=10\n",
        "                    ,validation_data=validation_dataset\n",
        "                    ,validation_steps=30\n",
        "                    ,callbacks=[tf.keras.callbacks.EarlyStopping(monitor='val_accuracy', patience=2),\n",
        "                                ]\n",
        "                    )"
      ],
      "execution_count": null,
      "outputs": [
        {
          "output_type": "stream",
          "text": [
            "Epoch 1/10\n",
            "1782/1782 [==============================] - 98s 53ms/step - loss: 0.6950 - accuracy: 0.7174 - val_loss: 0.4391 - val_accuracy: 0.8385\n",
            "Epoch 2/10\n",
            "1782/1782 [==============================] - 95s 53ms/step - loss: 0.4470 - accuracy: 0.8455 - val_loss: 0.4071 - val_accuracy: 0.8510\n",
            "Epoch 3/10\n",
            "1782/1782 [==============================] - 97s 54ms/step - loss: 0.4256 - accuracy: 0.8524 - val_loss: 0.3932 - val_accuracy: 0.8547\n",
            "Epoch 4/10\n",
            "1782/1782 [==============================] - 97s 54ms/step - loss: 0.4085 - accuracy: 0.8568 - val_loss: 0.3879 - val_accuracy: 0.8635\n",
            "Epoch 5/10\n",
            "1782/1782 [==============================] - 100s 56ms/step - loss: 0.3913 - accuracy: 0.8601 - val_loss: 0.3911 - val_accuracy: 0.8661\n",
            "Epoch 6/10\n",
            "1782/1782 [==============================] - 101s 57ms/step - loss: 0.3762 - accuracy: 0.8643 - val_loss: 0.3831 - val_accuracy: 0.8609\n",
            "Epoch 7/10\n",
            "1782/1782 [==============================] - 105s 59ms/step - loss: 0.3596 - accuracy: 0.8703 - val_loss: 0.3988 - val_accuracy: 0.8568\n"
          ],
          "name": "stdout"
        }
      ]
    },
    {
      "cell_type": "code",
      "metadata": {
        "colab": {
          "base_uri": "https://localhost:8080/"
        },
        "id": "oYQvE96Sg-hm",
        "outputId": "355ec65a-1ca4-4665-cbf5-155422c201bf"
      },
      "source": [
        "model8.save('/content/gdrive/My Drive/Colab Notebooks/Assignment3/model8.tf')"
      ],
      "execution_count": null,
      "outputs": [
        {
          "output_type": "stream",
          "text": [
            "WARNING:absl:Found untraced functions such as lstm_cell_53_layer_call_and_return_conditional_losses, lstm_cell_53_layer_call_fn, lstm_cell_53_layer_call_fn, lstm_cell_53_layer_call_and_return_conditional_losses, lstm_cell_53_layer_call_and_return_conditional_losses while saving (showing 5 of 5). These functions will not be directly callable after loading.\n",
            "WARNING:absl:Found untraced functions such as lstm_cell_53_layer_call_and_return_conditional_losses, lstm_cell_53_layer_call_fn, lstm_cell_53_layer_call_fn, lstm_cell_53_layer_call_and_return_conditional_losses, lstm_cell_53_layer_call_and_return_conditional_losses while saving (showing 5 of 5). These functions will not be directly callable after loading.\n"
          ],
          "name": "stderr"
        },
        {
          "output_type": "stream",
          "text": [
            "INFO:tensorflow:Assets written to: /content/gdrive/My Drive/Colab Notebooks/Assignment3/model8.tf/assets\n"
          ],
          "name": "stdout"
        },
        {
          "output_type": "stream",
          "text": [
            "INFO:tensorflow:Assets written to: /content/gdrive/My Drive/Colab Notebooks/Assignment3/model8.tf/assets\n"
          ],
          "name": "stderr"
        }
      ]
    },
    {
      "cell_type": "code",
      "metadata": {
        "id": "u9_LkFuUn5q3"
      },
      "source": [
        "#model8=keras.models.load_model('/content/gdrive/My Drive/Colab Notebooks/Assignment3/model8.tf')"
      ],
      "execution_count": null,
      "outputs": []
    },
    {
      "cell_type": "code",
      "metadata": {
        "colab": {
          "base_uri": "https://localhost:8080/"
        },
        "id": "Xwk2PoDDoKgc",
        "outputId": "68fbe4e6-9163-4b5b-8b1d-2bda608cd84c"
      },
      "source": [
        "model8.summary()"
      ],
      "execution_count": null,
      "outputs": [
        {
          "output_type": "stream",
          "text": [
            "Model: \"sequential_9\"\n",
            "_________________________________________________________________\n",
            "Layer (type)                 Output Shape              Param #   \n",
            "=================================================================\n",
            "text_vectorization_17 (TextV (None, 60)                0         \n",
            "_________________________________________________________________\n",
            "embedding_11 (Embedding)     (None, 60, 64)            64000     \n",
            "_________________________________________________________________\n",
            "lstm_17 (LSTM)               (None, 64)                33024     \n",
            "_________________________________________________________________\n",
            "dense_19 (Dense)             (None, 64)                4160      \n",
            "_________________________________________________________________\n",
            "dropout_9 (Dropout)          (None, 64)                0         \n",
            "_________________________________________________________________\n",
            "dense_20 (Dense)             (None, 4)                 260       \n",
            "=================================================================\n",
            "Total params: 101,444\n",
            "Trainable params: 101,444\n",
            "Non-trainable params: 0\n",
            "_________________________________________________________________\n"
          ],
          "name": "stdout"
        }
      ]
    },
    {
      "cell_type": "code",
      "metadata": {
        "colab": {
          "base_uri": "https://localhost:8080/"
        },
        "id": "EtnnL2qEkdxN",
        "outputId": "c3797127-235f-44dc-df38-58b2bcdf8f55"
      },
      "source": [
        "test_loss, test_acc = model8.evaluate(test_dataset)\n",
        "\n",
        "print('Test Loss: {}'.format(test_loss))\n",
        "print('Test Accuracy: {}'.format(test_acc))"
      ],
      "execution_count": null,
      "outputs": [
        {
          "output_type": "stream",
          "text": [
            "119/119 [==============================] - 2s 17ms/step - loss: 0.4034 - accuracy: 0.8546\n",
            "Test Loss: 0.4033550024032593\n",
            "Test Accuracy: 0.8546052575111389\n"
          ],
          "name": "stdout"
        }
      ]
    },
    {
      "cell_type": "markdown",
      "metadata": {
        "id": "iXP-lYBNkwQQ"
      },
      "source": [
        "## 1D CNN"
      ]
    },
    {
      "cell_type": "code",
      "metadata": {
        "id": "BAKI9So7knNF"
      },
      "source": [
        "num_classes = 4\n",
        "model9 = tf.keras.Sequential([\n",
        "                              encoder\n",
        "                              ,tf.keras.layers.Embedding(len(encoder.get_vocabulary()), 64, mask_zero=True)\n",
        "                              ,tf.keras.layers.Conv1D(64,3, activation='relu')\n",
        "                              ,tf.keras.layers.MaxPooling1D(2)\n",
        "                              ,tf.keras.layers.Flatten()\n",
        "                              ,tf.keras.layers.Dense(64, activation='relu')\n",
        "                              ,tf.keras.layers.Dropout(0.5)\n",
        "                              ,tf.keras.layers.Dense(num_classes,activation='softmax')   # not binary since there are num_classes categories\n",
        "])"
      ],
      "execution_count": null,
      "outputs": []
    },
    {
      "cell_type": "code",
      "metadata": {
        "id": "YUszR2zxk4wj"
      },
      "source": [
        "model9.compile(optimizer='adam'\n",
        "              ,loss=tf.keras.losses.SparseCategoricalCrossentropy() # if we set from_logits=True we do not have specify a softmax activation function in the last layer\n",
        "              ,metrics=['accuracy'])"
      ],
      "execution_count": null,
      "outputs": []
    },
    {
      "cell_type": "code",
      "metadata": {
        "colab": {
          "base_uri": "https://localhost:8080/"
        },
        "id": "co5wWqwUlToJ",
        "outputId": "c19f02e9-205f-405b-96bb-627ade51d978"
      },
      "source": [
        "history9 = model9.fit(train_dataset\n",
        "                    ,epochs=10\n",
        "                    ,validation_data=validation_dataset\n",
        "                    ,validation_steps=30\n",
        "                    ,callbacks=[tf.keras.callbacks.EarlyStopping(monitor='val_accuracy', patience=2),\n",
        "                                ]\n",
        "                    )"
      ],
      "execution_count": null,
      "outputs": [
        {
          "output_type": "stream",
          "text": [
            "Epoch 1/10\n",
            "1782/1782 [==============================] - 15s 8ms/step - loss: 0.7334 - accuracy: 0.6971 - val_loss: 0.3996 - val_accuracy: 0.8562\n",
            "Epoch 2/10\n",
            "1782/1782 [==============================] - 14s 8ms/step - loss: 0.4206 - accuracy: 0.8517 - val_loss: 0.3790 - val_accuracy: 0.8646\n",
            "Epoch 3/10\n",
            "1782/1782 [==============================] - 14s 8ms/step - loss: 0.3913 - accuracy: 0.8594 - val_loss: 0.3891 - val_accuracy: 0.8646\n",
            "Epoch 4/10\n",
            "1782/1782 [==============================] - 15s 8ms/step - loss: 0.3641 - accuracy: 0.8706 - val_loss: 0.3911 - val_accuracy: 0.8573\n"
          ],
          "name": "stdout"
        }
      ]
    },
    {
      "cell_type": "code",
      "metadata": {
        "colab": {
          "base_uri": "https://localhost:8080/"
        },
        "id": "_27PGNTvlX0m",
        "outputId": "b7cfa4dd-9cae-47f1-d274-4623daae2775"
      },
      "source": [
        "model9.save('/content/gdrive/My Drive/Colab Notebooks/Assignment3/model9.tf')"
      ],
      "execution_count": null,
      "outputs": [
        {
          "output_type": "stream",
          "text": [
            "INFO:tensorflow:Assets written to: /content/gdrive/My Drive/Colab Notebooks/Assignment3/model9.tf/assets\n"
          ],
          "name": "stdout"
        },
        {
          "output_type": "stream",
          "text": [
            "INFO:tensorflow:Assets written to: /content/gdrive/My Drive/Colab Notebooks/Assignment3/model9.tf/assets\n"
          ],
          "name": "stderr"
        }
      ]
    },
    {
      "cell_type": "code",
      "metadata": {
        "id": "89LKETKvqvFe"
      },
      "source": [
        "#model9=keras.models.load_model('/content/gdrive/My Drive/Colab Notebooks/Assignment3/model9.tf')"
      ],
      "execution_count": null,
      "outputs": []
    },
    {
      "cell_type": "code",
      "metadata": {
        "colab": {
          "base_uri": "https://localhost:8080/"
        },
        "id": "GROVV4NZq3L8",
        "outputId": "2e2bd017-b685-4835-cc49-bd5669330091"
      },
      "source": [
        "model9.summary()"
      ],
      "execution_count": null,
      "outputs": [
        {
          "output_type": "stream",
          "text": [
            "Model: \"sequential_37\"\n",
            "_________________________________________________________________\n",
            "Layer (type)                 Output Shape              Param #   \n",
            "=================================================================\n",
            "text_vectorization_17 (TextV (None, 60)                0         \n",
            "_________________________________________________________________\n",
            "embedding_41 (Embedding)     (None, 60, 64)            64000     \n",
            "_________________________________________________________________\n",
            "conv1d_27 (Conv1D)           (None, 58, 64)            12352     \n",
            "_________________________________________________________________\n",
            "max_pooling1d_23 (MaxPooling (None, 29, 64)            0         \n",
            "_________________________________________________________________\n",
            "flatten_5 (Flatten)          (None, 1856)              0         \n",
            "_________________________________________________________________\n",
            "dense_75 (Dense)             (None, 64)                118848    \n",
            "_________________________________________________________________\n",
            "dropout_37 (Dropout)         (None, 64)                0         \n",
            "_________________________________________________________________\n",
            "dense_76 (Dense)             (None, 4)                 260       \n",
            "=================================================================\n",
            "Total params: 195,460\n",
            "Trainable params: 195,460\n",
            "Non-trainable params: 0\n",
            "_________________________________________________________________\n"
          ],
          "name": "stdout"
        }
      ]
    },
    {
      "cell_type": "code",
      "metadata": {
        "colab": {
          "base_uri": "https://localhost:8080/"
        },
        "id": "grYajdvMrZZx",
        "outputId": "0241c4e2-1eda-42f8-d3cd-b504c215b751"
      },
      "source": [
        "test_loss, test_acc = model9.evaluate(test_dataset)\n",
        "\n",
        "print('Test Loss: {}'.format(test_loss))\n",
        "print('Test Accuracy: {}'.format(test_acc))"
      ],
      "execution_count": null,
      "outputs": [
        {
          "output_type": "stream",
          "text": [
            "119/119 [==============================] - 1s 4ms/step - loss: 0.4021 - accuracy: 0.8562\n",
            "Test Loss: 0.40208014845848083\n",
            "Test Accuracy: 0.856184184551239\n"
          ],
          "name": "stdout"
        }
      ]
    },
    {
      "cell_type": "code",
      "metadata": {
        "id": "L8VPkIiurc5G"
      },
      "source": [
        ""
      ],
      "execution_count": null,
      "outputs": []
    }
  ]
}